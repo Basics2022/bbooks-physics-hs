{
 "cells": [
  {
   "cell_type": "code",
   "execution_count": null,
   "id": "bf54724e-b327-4565-9eda-ab32c5690ba5",
   "metadata": {},
   "outputs": [],
   "source": [
    "# Simulazioni"
   ]
  },
  {
   "cell_type": "code",
   "execution_count": null,
   "id": "1521e69e-bd3a-4f7c-aaf2-31495c0c8249",
   "metadata": {},
   "outputs": [],
   "source": [
    "## Moto di un proiettile"
   ]
  },
  {
   "cell_type": "code",
   "execution_count": null,
   "id": "d8343a42-4855-4920-ab9e-ec6d4ef2d300",
   "metadata": {},
   "outputs": [],
   "source": [
    "import numpy as np\n",
    "import matplotlib.pyplot as plt\n",
    "from ipywidgets import interact\n",
    "\n",
    "def projectile(v, angle):\n",
    "    g = 9.81\n",
    "    t = np.linspace(0, 2 * v * np.sin(np.radians(angle)) / g, 100)\n",
    "    x = v * np.cos(np.radians(angle)) * t\n",
    "    y = v * np.sin(np.radians(angle)) * t - 0.5 * g * t**2\n",
    "    plt.plot(x, y)\n",
    "    plt.xlabel(\"x (m)\")\n",
    "    plt.ylabel(\"y (m)\")\n",
    "    plt.title(\"Projectile Motion\")\n",
    "    plt.show()\n",
    "\n",
    "interact(projectile, v=(1, 50), angle=(0, 90));"
   ]
  }
 ],
 "metadata": {
  "kernelspec": {
   "display_name": "Python 3 (ipykernel)",
   "language": "python",
   "name": "python3"
  },
  "language_info": {
   "codemirror_mode": {
    "name": "ipython",
    "version": 3
   },
   "file_extension": ".py",
   "mimetype": "text/x-python",
   "name": "python",
   "nbconvert_exporter": "python",
   "pygments_lexer": "ipython3",
   "version": "3.8.10"
  }
 },
 "nbformat": 4,
 "nbformat_minor": 5
}
