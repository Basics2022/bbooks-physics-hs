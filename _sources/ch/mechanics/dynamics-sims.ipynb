{
 "cells": [
  {
   "cell_type": "markdown",
   "id": "6572ae51-8c8e-46f9-aeda-04f2aeaf2f79",
   "metadata": {},
   "source": [
    "# Simulazioni"
   ]
  },
  {
   "cell_type": "markdown",
   "id": "a9d5608d-6741-4f6b-828e-6c8a3713aeb0",
   "metadata": {},
   "source": [
    "## Moto di un proiettile"
   ]
  },
  {
   "cell_type": "code",
   "execution_count": null,
   "id": "d8343a42-4855-4920-ab9e-ec6d4ef2d300",
   "metadata": {},
   "outputs": [],
   "source": [
    "import numpy as np\n",
    "import matplotlib.pyplot as plt\n",
    "from matplotlib.animation import FuncAnimation\n",
    "import ipywidgets as widgets\n",
    "from IPython.display import display\n",
    "\n",
    "# Function to compute trajectory\n",
    "def compute_trajectory(vx0, vy0, dt=0.05, total_time=5):\n",
    "    g = 9.81  # Gravitational acceleration (m/s^2)\n",
    "    t = np.arange(0, total_time, dt)\n",
    "    x = vx0 * t\n",
    "    y = vy0 * t - 0.5 * g * t**2\n",
    "    y = np.maximum(y, 0)  # Ensure y does not go below the ground\n",
    "    return t, x, y\n",
    "\n",
    "# Function to create animation\n",
    "def animate_trajectory(vx0, vy0):\n",
    "    t, x, y = compute_trajectory(vx0, vy0)\n",
    "    \n",
    "    fig, ax = plt.subplots()\n",
    "    ax.set_xlim(0, max(x))\n",
    "    ax.set_ylim(0, max(y) + 1)\n",
    "    ax.set_xlabel('x (m)')\n",
    "    ax.set_ylabel('y (m)')\n",
    "    point, = ax.plot([], [], 'ro')\n",
    "    \n",
    "    def update(frame):\n",
    "        point.set_data(x[frame], y[frame])\n",
    "        return point,\n",
    "    \n",
    "    ani = FuncAnimation(fig, update, frames=len(t), interval=50, blit=True)\n",
    "    plt.close(fig)  # Prevent static display\n",
    "    return ani\n",
    "\n",
    "# Interactive widgets\n",
    "vx_slider = widgets.FloatSlider(value=5, min=1, max=20, step=0.1, description='vx0 (m/s):')\n",
    "vy_slider = widgets.FloatSlider(value=10, min=1, max=20, step=0.1, description='vy0 (m/s):')\n",
    "run_button = widgets.Button(description=\"Run Simulation\")\n",
    "\n",
    "# Function to update simulation\n",
    "def run_simulation(_):\n",
    "    vx0 = vx_slider.value\n",
    "    vy0 = vy_slider.value\n",
    "    ani = animate_trajectory(vx0, vy0)\n",
    "    display(widgets.HTML(ani.to_jshtml()))\n",
    "\n",
    "# Connect button click to function\n",
    "run_button.on_click(run_simulation)\n",
    "\n",
    "# Display the widgets\n",
    "display(vx_slider, vy_slider, run_button)\n"
   ]
  }
 ],
 "metadata": {
  "kernelspec": {
   "display_name": "Python 3 (ipykernel)",
   "language": "python",
   "name": "python3"
  },
  "language_info": {
   "codemirror_mode": {
    "name": "ipython",
    "version": 3
   },
   "file_extension": ".py",
   "mimetype": "text/x-python",
   "name": "python",
   "nbconvert_exporter": "python",
   "pygments_lexer": "ipython3",
   "version": "3.8.10"
  }
 },
 "nbformat": 4,
 "nbformat_minor": 5
}
