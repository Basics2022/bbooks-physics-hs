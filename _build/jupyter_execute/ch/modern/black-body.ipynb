{
 "cells": [
  {
   "cell_type": "markdown",
   "id": "d3f751e5-9288-4555-aee3-77b7512d1d65",
   "metadata": {},
   "source": [
    "(physics-hs:modern:black-body)=\n",
    "# Black body radiation\n",
    "\n"
   ]
  },
  {
   "cell_type": "code",
   "execution_count": 3,
   "id": "57a2613d-cc22-4942-88d2-035613810be4",
   "metadata": {},
   "outputs": [
    {
     "data": {
      "application/vnd.jupyter.widget-view+json": {
       "model_id": "84edec12784a4bb0b5608dd76b3f3666",
       "version_major": 2,
       "version_minor": 0
      },
      "text/plain": [
       "interactive(children=(IntSlider(value=5500, description='temp', max=10000, min=200, step=10), Output()), _dom_…"
      ]
     },
     "metadata": {},
     "output_type": "display_data"
    },
    {
     "name": "stdout",
     "output_type": "stream",
     "text": [
      "a  :  1\n"
     ]
    }
   ],
   "source": [
    "import numpy as np\n",
    "import plotly.graph_objects as go\n",
    "from ipywidgets import interactive, IntSlider\n",
    "from IPython.display import display\n",
    "\n",
    "# Constants\n",
    "h = 6.62607015e-34  # Planck's constant (J·s)\n",
    "c = 3.0e8           # Speed of light (m/s)\n",
    "k = 1.380649e-23    # Boltzmann constant (J/K)\n",
    "b = 2.897e-3        # Wien's displacement constant (m·K)\n",
    "sigma = 5.67e-8     # Stefan-Boltzmann constant (W/m^2·K^4)\n",
    "\n",
    "# Planck's Law function\n",
    "def planck(lam, T):\n",
    "    return (2*h*c**2) / (lam**5) * (1 / (np.exp(h*c / (lam*k*T)) - 1))\n",
    "\n",
    "# Wien's Law function\n",
    "def wien_peak_temp(T):\n",
    "    return b / T  # Peak wavelength (m)\n",
    "\n",
    "# Stefan-Boltzmann Law for power\n",
    "def stefan_boltzmann(T):\n",
    "    return sigma * T**4\n",
    "\n",
    "# Wavelength range\n",
    "wavelengths = np.linspace(100e-9, 3000e-9, 500)\n",
    "\n",
    "def show_all_plots(temp=5500):\n",
    "    fig = go.Figure()\n",
    "\n",
    "    # Planck Spectrum\n",
    "    intensity = planck(wavelengths, temp)\n",
    "    fig.add_trace(go.Scatter(x=wavelengths*1e9, y=intensity,\n",
    "                             mode='lines', name='Spectrum'))\n",
    "\n",
    "    # Wien's Peak\n",
    "    peak_wavelength = wien_peak_temp(temp) * 1e9\n",
    "    fig.add_vline(x=peak_wavelength, line=dict(color='red', dash='dash'),\n",
    "                  annotation_text=f'Peak: {peak_wavelength:.1f} nm', annotation_position=\"top right\")\n",
    "\n",
    "    fig.update_layout(title=f'Blackbody Spectrum at {temp} K',\n",
    "                      xaxis_title='Wavelength (nm)',\n",
    "                      yaxis_title='Spectral Radiance (W/m^3)',\n",
    "                      template='plotly_white')\n",
    "\n",
    "    fig.show()\n",
    "\n",
    "    # Power vs Temp\n",
    "    temps = np.linspace(1000, 10000, 100)\n",
    "    powers = stefan_boltzmann(temps)\n",
    "    fig2 = go.Figure()\n",
    "    fig2.add_trace(go.Scatter(x=temps, y=powers, mode='lines', name='Power'))\n",
    "    fig2.update_layout(title='Total Power vs Temperature',\n",
    "                       xaxis_title='Temperature (K)',\n",
    "                       yaxis_title='Power (W/m^2)',\n",
    "                       template='plotly_white')\n",
    "    fig2.show()\n",
    "\n",
    "    # Peak Wavelength vs Temp\n",
    "    peaks = wien_peak_temp(temps) * 1e9\n",
    "    fig3 = go.Figure()\n",
    "    fig3.add_trace(go.Scatter(x=temps, y=peaks, mode='lines', name='Peak Wavelength'))\n",
    "    fig3.update_layout(title='Peak Wavelength vs Temperature',\n",
    "                       xaxis_title='Temperature (K)',\n",
    "                       yaxis_title='Peak Wavelength (nm)',\n",
    "                       template='plotly_white')\n",
    "    fig3.show()\n",
    "\n",
    "\n",
    "interactive_plot = interactive(show_all_plots, temp=IntSlider(min=200, max=10000, step=10, value=5500))\n",
    "display(interactive_plot)\n",
    "\n"
   ]
  },
  {
   "cell_type": "code",
   "execution_count": null,
   "id": "f5150df4-53a9-486d-9166-a45d3e216fd5",
   "metadata": {},
   "outputs": [],
   "source": []
  }
 ],
 "metadata": {
  "kernelspec": {
   "display_name": "Python 3 (ipykernel)",
   "language": "python",
   "name": "python3"
  },
  "language_info": {
   "codemirror_mode": {
    "name": "ipython",
    "version": 3
   },
   "file_extension": ".py",
   "mimetype": "text/x-python",
   "name": "python",
   "nbconvert_exporter": "python",
   "pygments_lexer": "ipython3",
   "version": "3.8.10"
  }
 },
 "nbformat": 4,
 "nbformat_minor": 5
}