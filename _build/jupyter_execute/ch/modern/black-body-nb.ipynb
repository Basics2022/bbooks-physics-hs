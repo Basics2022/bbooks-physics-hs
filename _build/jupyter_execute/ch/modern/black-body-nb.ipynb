{
 "cells": [
  {
   "cell_type": "markdown",
   "id": "38d65b70-f33b-436f-8582-0a4c60bd64f8",
   "metadata": {},
   "source": [
    "(physics-hs:modern:black-body)=\n",
    "# Black body radiation"
   ]
  },
  {
   "cell_type": "code",
   "execution_count": 1,
   "id": "3694ef4a-9083-4784-bd73-17f4ea7ba690",
   "metadata": {},
   "outputs": [
    {
     "data": {
      "application/vnd.jupyter.widget-view+json": {
       "model_id": "777fe5e9cf3341d19d559eadcbc6d3fc",
       "version_major": 2,
       "version_minor": 0
      },
      "text/plain": [
       "interactive(children=(IntSlider(value=10, description='n', min=1), Output()), _dom_classes=('widget-interact',…"
      ]
     },
     "metadata": {},
     "output_type": "display_data"
    },
    {
     "data": {
      "application/vnd.jupyter.widget-view+json": {
       "model_id": "0f0ae5db9092485791e89700d09397c9",
       "version_major": 2,
       "version_minor": 0
      },
      "text/plain": [
       "Output()"
      ]
     },
     "metadata": {},
     "output_type": "display_data"
    }
   ],
   "source": [
    "import numpy as np\n",
    "import matplotlib.pyplot as plt\n",
    "from ipywidgets import interactive, widgets, Output\n",
    "from IPython.display import display, clear_output\n",
    "\n",
    "# Create an Output widget to capture and update the plot\n",
    "out = Output()\n",
    "\n",
    "# Function to update plot\n",
    "def plot_fun(n):\n",
    "    with out:\n",
    "        clear_output(wait=True)  # Clear the previous output\n",
    "        plt.figure(figsize=(6, 4))\n",
    "        plt.plot(np.random.random(n), np.random.random(n), 'o')\n",
    "        plt.title(f\"Plot with {n} points\")\n",
    "        plt.show()\n",
    "\n",
    "# Create the slider widget\n",
    "n_slider = widgets.IntSlider(min=1, max=100, step=1, value=10)\n",
    "\n",
    "# Create the interactive widget\n",
    "interactive_plot = interactive(plot_fun, n=n_slider)\n",
    "\n",
    "# Display the slider and the plot output\n",
    "display(interactive_plot, out)"
   ]
  },
  {
   "cell_type": "code",
   "execution_count": null,
   "id": "956d33e9-f92b-45b2-8eb2-dbbfb7ba13c1",
   "metadata": {},
   "outputs": [],
   "source": []
  }
 ],
 "metadata": {
  "kernelspec": {
   "display_name": "Python 3 (ipykernel)",
   "language": "python",
   "name": "python3"
  },
  "language_info": {
   "codemirror_mode": {
    "name": "ipython",
    "version": 3
   },
   "file_extension": ".py",
   "mimetype": "text/x-python",
   "name": "python",
   "nbconvert_exporter": "python",
   "pygments_lexer": "ipython3",
   "version": "3.8.10"
  },
  "widgets": {
   "application/vnd.jupyter.widget-state+json": {
    "state": {
     "0f0ae5db9092485791e89700d09397c9": {
      "model_module": "@jupyter-widgets/output",
      "model_module_version": "1.0.0",
      "model_name": "OutputModel",
      "state": {
       "_dom_classes": [],
       "_model_module": "@jupyter-widgets/output",
       "_model_module_version": "1.0.0",
       "_model_name": "OutputModel",
       "_view_count": null,
       "_view_module": "@jupyter-widgets/output",
       "_view_module_version": "1.0.0",
       "_view_name": "OutputView",
       "layout": "IPY_MODEL_4a1f58c16aba41ef96d47721c031c521",
       "msg_id": "",
       "outputs": [
        {
         "data": {
          "image/png": "iVBORw0KGgoAAAANSUhEUgAAAgQAAAF2CAYAAAARAIDBAAAAOXRFWHRTb2Z0d2FyZQBNYXRwbG90bGliIHZlcnNpb24zLjQuMywgaHR0cHM6Ly9tYXRwbG90bGliLm9yZy/MnkTPAAAACXBIWXMAAA9hAAAPYQGoP6dpAAAv8UlEQVR4nO3de3xTdZ7/8XcSaEKBBkqhLTVjES/YKVJsaS2C4Ey1KMvIjmIVBaajOMtNJTu7gDKt4KWMF2R2qaAMjLOiS1ceuizKFrHKCGN3i1RGEUERkApt2i6Sdoq02pzfH/wazfRC01tK83o+HufxMN98v+d8kvPAvHvO+Z5jMgzDEAAACGrmQBcAAAACj0AAAAAIBAAAgEAAAABEIAAAACIQAAAAEQgAAIAIBAAAQAQCAAAgAgHQLjt37pTJZNLOnTsDXUqTjh07JpPJpBdffLHVfZ9++unOL6yb6e77EegKBAKgCS+++KJMJpN3sdlsuvzyyzV//ny5XK4O2ca2bdv0yCOPdMi6ust2H3/8cf3sZz9TZGSkTCZTi9s5ceKEbr/9dg0YMEBhYWG65ZZbdOTIkU6pqzOdPHlSjzzyiPbt2xfoUoB26RXoAoDubPny5Ro2bJjOnj2r3bt3a82aNdq2bZv279+v0NDQdq1727Ztys3N7dRQcPHFF+ubb75R7969u2S7S5cuVVRUlEaPHq3t27c32++vf/2rrr/+erndbj300EPq3bu3nn32WU2YMEH79u3ToEGDOry2llx33XX65ptvFBIS4vfYkydPatmyZYqNjVVCQkLHFwd0EQIB0IKbbrpJSUlJkqR7771XgwYN0sqVK7VlyxbdeeedAa7u/BqObnSVo0ePKjY2VpWVlRo8eHCz/Z577jl9/vnnKioq0pgxYySd+67j4+P1zDPP6IknnuiqkiVJZrO5S78noDvilAHgh5/85CeSzv3wteTVV19VYmKi+vTpo4iICN199906ceKE9/1f/OIXys3NlSSfUxPNcTqdGjRokH74cNIFCxbIZDLpX/7lX7xtLpdLJpNJa9askdT4GoLWbveFF17Q8OHDZbVaNWbMGO3Zs6fFz9sgNja2Vf02b96sMWPGeMOAJI0YMUI//elP9R//8R/nHW8ymTR//ny9/PLLuuKKK2Sz2ZSYmKj33nuvUd8PP/xQN910k8LCwtSvXz/99Kc/1f/8z//49GnqGoKJEycqPj5eBw4c0PXXX6/Q0FDFxMToySef9BnX8BkyMzO932fD9/3555/r1ltvVVRUlGw2my666CLdcccdcrvdrfqegK7EEQLAD1988YUktXhI+8UXX1RmZqbGjBmjnJwcuVwu/e53v9Of//xnffjhhxowYIB+9atf6eTJk9qxY4deeuml8253/PjxevbZZ/XJJ58oPj5ekrRr1y6ZzWbt2rVL999/v7dNOncIvCmt2e4rr7yi6upq/epXv5LJZNKTTz6pn//85zpy5IjPqYe28ng8+uijj/TLX/6y0XvJycl66623VF1drf79+7e4nj/96U/Ky8vT/fffL6vVqueee06TJk1SUVGR9zv65JNPNH78eIWFhemf//mf1bt3bz3//POaOHGi/vSnPyklJaXFbXz99deaNGmSfv7zn+v222/X5s2btWjRIo0cOVI33XSTrrzySi1fvlxZWVm67777NH78eEnS2LFjVVdXp/T0dNXW1mrBggWKiorSiRMn9MYbb+j06dOy2+1t/AaBTmIAaOQPf/iDIcl4++23jYqKCqOkpMTYtGmTMWjQIKNPnz7GV199ZRiGYbz77ruGJOPdd981DMMw6urqjCFDhhjx8fHGN998413fG2+8YUgysrKyvG3z5s0zWvtPsLy83JBkPPfcc4ZhGMbp06cNs9lsTJs2zYiMjPT2u//++43w8HDD4/EYhmEYR48eNSQZf/jDH8673Ya+gwYNMk6dOuVt37JliyHJ2Lp1a6tqNQzDqKioMCQZ2dnZzb63fPnyRu/l5uYakoyDBw+2uH5JhiTjgw8+8LZ9+eWXhs1mM/7+7//e2zZ16lQjJCTE+OKLL7xtJ0+eNPr3729cd9113ra/3Y+GYRgTJkwwJBn/9m//5m2rra01oqKijFtvvdXbtmfPnkbfsWEYxocffmhIMl599dUWPwvQXXDKAGhBWlqaBg8eLIfDoTvuuEP9+vXT66+/rpiYmCb7f/DBByovL9fcuXN9zklPnjxZI0aM0JtvvtmmOgYPHqwRI0Z4D4n/+c9/lsVi0T/90z/J5XLp888/l3TuCMG4ceNaPP1wPhkZGRo4cKD3dcNfvR01A+Cbb76RJFmt1kbvNXxnDX1akpqaqsTERO/rH/3oR7rlllu0fft21dfXq76+Xm+99ZamTp2qSy65xNsvOjpa06dP1+7du1VVVdXiNvr166e7777b+zokJETJycmt+i4ajgBs375dZ86cOW9/INAIBEALcnNztWPHDr377rs6cOCAjhw5ovT09Gb7f/nll5KkK664otF7I0aM8L7fFuPHj/eeEti1a5eSkpKUlJSk8PBw7dq1S1VVVfrLX/7i/QFvqx/96Ec+rxvCwddff92u9Tbo06ePJKm2trbRe2fPnvXp05LLLrusUdvll1+uM2fOqKKiQhUVFTpz5kyT++LKK6+Ux+NRSUlJi9u46KKLGoWrgQMHtuq7GDZsmJxOp37/+98rIiJC6enpys3N5foBdFsEAqAFycnJSktL08SJE3XllVfKbA7cP5lx48bpxIkTOnLkiHbt2qXx48fLZDJp3Lhx2rVrl95//315PJ52BwKLxdJku/GDCxrbIzw8XFarVaWlpY3ea2gbOnRoh2yrvdr7XTzzzDP66KOP9NBDD+mbb77R/fffrx//+Mf66quvOrJMoEMQCIAOdPHFF0uSDh061Oi9Q4cOed+X5Pdh/YYf+h07dmjPnj3e19ddd5127dqlXbt2qW/fvj6H0ZvSntMJHcFsNmvkyJH64IMPGr33v//7v7rkkkvOe0GhJO9pkh/67LPPFBoaqsGDB2vw4MEKDQ1tcl8cPHhQZrNZDoejbR/iB873fY4cOVJLly7Ve++9p127dunEiRNau3Ztu7cLdDQCAdCBkpKSNGTIEK1du9bnkPh///d/69NPP9XkyZO9bX379pUknT59ulXrHjZsmGJiYvTss8/q22+/1bXXXivpXFD44osvtHnzZl1zzTXq1avlyUP+brcz3HbbbdqzZ49PKDh06JDeeecdTZs2rVXrKCwsVHFxsfd1SUmJtmzZohtvvFEWi0UWi0U33nijtmzZomPHjnn7uVwuvfLKKxo3bpzCwsLa/Vma+z6rqqr03Xff+bSNHDlSZrO5ydMlQKAx7RDoQL1799Zvf/tbZWZmasKECbrzzju90w5jY2O1cOFCb9+Gv+Tvv/9+paeny2Kx6I477mhx/ePHj9emTZs0cuRI77n9q6++Wn379tVnn32m6dOnn7fGtmy3tV566SV9+eWX3ovo3nvvPT322GOSpBkzZniPkMydO1fr1q3T5MmT9etf/1q9e/fWypUrFRkZqX/8x39s1bbi4+OVnp7uM+1QkpYtW+bt89hjj2nHjh0aN26c5s6dq169eun5559XbW2tz/0E2mP48OEaMGCA1q5dq/79+6tv375KSUnRX/7yF82fP1/Tpk3T5Zdfru+++04vvfSSLBaLbr311g7ZNtChAj3NAeiOGqYd7tmzp8V+TU1XMwzDyMvLM0aPHm1YrVYjPDzcuOuuu7xTFRt89913xoIFC4zBgwcbJpOpVVMQG6blzZkzx6c9LS3NkGQUFBT4tDc17bC57Tb0feqppxptV81MIfxbDVP1mlr+9jsqKSkxbrvtNiMsLMzo16+f8Xd/93fG559/ft5tNNQzb948Y+PGjcZll11mWK1WY/To0Y22YRiGUVxcbKSnpxv9+vUzQkNDjeuvv954//33ffo0N+3wxz/+caP1zZo1y7j44ot92rZs2WLExcUZvXr18n7fR44cMX75y18aw4cPN2w2mxEeHm5cf/31xttvv92qzwh0NZNhdNCVQgDQRUwmk+bNm6fVq1cHuhSgx+AaAgAAQCAAAAAEAgAAIGYZALgAcekT0PE4QgAAAAgEAADgAjll4PF4dPLkSfXv3z/gt10FAOBCYhiGqqurNXTo0Bafx3JBBIKTJ092yD3HAQAIViUlJbrooouaff+CCAQNDzopKSnpkHuPAwAQLKqqquRwOM770LALIhA0nCYICwsjEAAA0AbnO+XORYUAAIBAAAAACAQAAEAEAgAAIAIBAAAQgQAAAOgCmXbY0eo9hoqOnlJ59VkN6W9T8rBwWczcAREAELyCLhDk7y/Vsq0HVOo+620L79tbf58Qo7S4KMIBACAomYwL4DmiVVVVstvtcrvd7boxUf7+Us3ZWKyWPnC03absKXGaFB/d5u0AANBdtPY3NGiuIaj3GFq29UCLYUCSytxnNWdjsfL3l3ZJXQAAdAdBEwiKjp7yOU3QnIbAsGzrAdV7uv3BEwAAOkSbAkFubq5iY2Nls9mUkpKioqKiFvuvWrVKV1xxhfr06SOHw6GFCxfq7Nnz/zh3pPLq1m/PkFTqPquio6c6ryAAALoRvwNBXl6enE6nsrOzVVxcrFGjRik9PV3l5eVN9n/llVe0ePFiZWdn69NPP9X69euVl5enhx56qN3F+2NIf5vfY/wJEQAAXMj8DgQrV67U7NmzlZmZqbi4OK1du1ahoaHasGFDk/3ff/99XXvttZo+fbpiY2N144036s477zzvUYWOljwsXNF2m/yZP9CWEAEAwIXIr0BQV1envXv3Ki0t7fsVmM1KS0tTYWFhk2PGjh2rvXv3egPAkSNHtG3bNt18883Nbqe2tlZVVVU+S3tZzCZlT4lrVV+Tzs02SB4W3u7tAgBwIfArEFRWVqq+vl6RkZE+7ZGRkSorK2tyzPTp07V8+XKNGzdOvXv31vDhwzVx4sQWTxnk5OTIbrd7F4fD4U+ZzZoUH601d1+taHvzf/k3HEHInhLH/QgAAEGj02cZ7Ny5U0888YSee+45FRcX67XXXtObb76pRx99tNkxS5Yskdvt9i4lJSUdVs+k+GjtXvQT/fvsa/TLa2MV3jfE5/0ou01r7r6a+xAAAIKKX3cqjIiIkMVikcvl8ml3uVyKiopqcsxvfvMbzZgxQ/fee68kaeTIkaqpqdF9992nhx9+WGZz40xitVpltVr9Kc0vFrNJqcMHKXX4ID08OY7bGAMAgp5fRwhCQkKUmJiogoICb5vH41FBQYFSU1ObHHPmzJlGP/oWi0WS1B1uktgQDm5JiFHq8EGEAQBAUPL7WQZOp1OzZs1SUlKSkpOTtWrVKtXU1CgzM1OSNHPmTMXExCgnJ0eSNGXKFK1cuVKjR49WSkqKDh8+rN/85jeaMmWKNxgAAIDA8jsQZGRkqKKiQllZWSorK1NCQoLy8/O9FxoeP37c54jA0qVLZTKZtHTpUp04cUKDBw/WlClT9Pjjj3fcpwAAAO0SVA83AgAg2PBwIwAA0GoEAgAAQCAAAAAEAgAAIAIBAAAQgQAAAIhAAAAARCAAAAAiEAAAABEIAACACAQAAEAEAgAAIAIBAAAQgQAAAIhAAAAARCAAAAAiEAAAABEIAACACAQAAEAEAgAAIAIBAAAQgQAAAIhAAAAAJPUKdAEA2qbeY6jo6CmVV5/VkP42JQ8Ll8VsCnRZAC5QBALgApS/v1TLth5Qqfusty3ablP2lDhNio8OYGUALlRtOmWQm5ur2NhY2Ww2paSkqKioqNm+EydOlMlkarRMnjy5zUUDwSx/f6nmbCz2CQOSVOY+qzkbi5W/vzRAlQG4kPkdCPLy8uR0OpWdna3i4mKNGjVK6enpKi8vb7L/a6+9ptLSUu+yf/9+WSwWTZs2rd3FA8Gm3mNo2dYDMpp4r6Ft2dYDqvc01QMAmud3IFi5cqVmz56tzMxMxcXFae3atQoNDdWGDRua7B8eHq6oqCjvsmPHDoWGhhIIgDYoOnqq0ZGBHzIklbrPqujoqa4rCkCP4FcgqKur0969e5WWlvb9CsxmpaWlqbCwsFXrWL9+ve644w717du32T61tbWqqqryWQBI5dXNh4G29AOABn4FgsrKStXX1ysyMtKnPTIyUmVlZecdX1RUpP379+vee+9tsV9OTo7sdrt3cTgc/pQJ9FhD+ts6tB8ANOjS+xCsX79eI0eOVHJycov9lixZIrfb7V1KSkq6qEKge0seFq5ou03NTS406dxsg+Rh4V1ZFoAewK9AEBERIYvFIpfL5dPucrkUFRXV4tiamhpt2rRJ99xzz3m3Y7VaFRYW5rMAkCxmk7KnxElSo1DQ8Dp7Shz3IwDgN78CQUhIiBITE1VQUOBt83g8KigoUGpqaotjX331VdXW1uruu+9uW6UAJEmT4qO15u6rFWX3PS0QZbdpzd1Xcx8CAG3i942JnE6nZs2apaSkJCUnJ2vVqlWqqalRZmamJGnmzJmKiYlRTk6Oz7j169dr6tSpGjRoUMdUDgSxSfHRuiEuijsVAugwfgeCjIwMVVRUKCsrS2VlZUpISFB+fr73QsPjx4/LbPY98HDo0CHt3r1bb731VsdUDUAWs0mpwwnYADqGyTCMbn8Hk6qqKtntdrndbq4nAADAD639DeVphwAAgEAAAAAIBAAAQAQCAAAgAgEAABCBAAAAiEAAAABEIAAAACIQAAAAEQgAAIAIBAAAQAQCAAAgAgEAABCBAAAAiEAAAABEIAAAACIQAAAAEQgAAICkXoEuAOhq9R5DRUdPqbz6rIb0tyl5WLgsZlOgywKAgCIQIKjk7y/Vsq0HVOo+622LttuUPSVOk+KjA1gZAAQWpwwQNPL3l2rOxmKfMCBJZe6zmrOxWPn7SwNUGQAEHoEAQaHeY2jZ1gMymnivoW3Z1gOq9zTVAwB6PgIBgkLR0VONjgz8kCGp1H1WRUdPdV1RANCNEAgQFMqrmw8DbekHAD0NgQBBYUh/W4f2A4Cepk2BIDc3V7GxsbLZbEpJSVFRUVGL/U+fPq158+YpOjpaVqtVl19+ubZt29amgoG2SB4Wrmi7Tc1NLjTp3GyD5GHhXVkWAHQbfgeCvLw8OZ1OZWdnq7i4WKNGjVJ6errKy8ub7F9XV6cbbrhBx44d0+bNm3Xo0CGtW7dOMTEx7S4eaC2L2aTsKXGS1CgUNLzOnhLH/QgABC2TYRh+XVadkpKiMWPGaPXq1ZIkj8cjh8OhBQsWaPHixY36r127Vk899ZQOHjyo3r17t6nIqqoq2e12ud1uhYWFtWkdgMR9CAAEn9b+hvoVCOrq6hQaGqrNmzdr6tSp3vZZs2bp9OnT2rJlS6MxN998s8LDwxUaGqotW7Zo8ODBmj59uhYtWiSLxdLkdmpra1VbW+vzYRwOB4EAHYI7FQIIJq0NBH7dqbCyslL19fWKjIz0aY+MjNTBgwebHHPkyBG98847uuuuu7Rt2zYdPnxYc+fO1bfffqvs7Owmx+Tk5GjZsmX+lAa0msVsUurwQYEuAwC6lU6fZeDxeDRkyBC98MILSkxMVEZGhh5++GGtXbu22TFLliyR2+32LiUlJZ1dJgAAQc2vIwQRERGyWCxyuVw+7S6XS1FRUU2OiY6OVu/evX1OD1x55ZUqKytTXV2dQkJCGo2xWq2yWq3+lAYAANrBryMEISEhSkxMVEFBgbfN4/GooKBAqampTY659tprdfjwYXk8Hm/bZ599pujo6CbDAAAA6Hp+nzJwOp1at26d/vjHP+rTTz/VnDlzVFNTo8zMTEnSzJkztWTJEm//OXPm6NSpU3rggQf02Wef6c0339QTTzyhefPmddynAAAA7eL3448zMjJUUVGhrKwslZWVKSEhQfn5+d4LDY8fPy6z+fuc4XA4tH37di1cuFBXXXWVYmJi9MADD2jRokUd9ykAAEC7+H0fgkDgPgQAALRNa39DeZYBAAAgEAAAAAIBAAAQgQAAAIhAAAAARCAAAAAiEAAAABEIAACACAQAAEAEAgAAIAIBAAAQgQAAAIhAAAAARCAAAAAiEAAAABEIAACACAQAAEAEAgAAIAIBAAAQgQAAAIhAAAAARCAAAAAiEAAAABEIAACACAQAAEBtDAS5ubmKjY2VzWZTSkqKioqKmu374osvymQy+Sw2m63NBQMAgI7ndyDIy8uT0+lUdna2iouLNWrUKKWnp6u8vLzZMWFhYSotLfUuX375ZbuKBgAAHcvvQLBy5UrNnj1bmZmZiouL09q1axUaGqoNGzY0O8ZkMikqKsq7REZGtqtoAADQsfwKBHV1ddq7d6/S0tK+X4HZrLS0NBUWFjY77q9//asuvvhiORwO3XLLLfrkk0/aXjEAAOhwfgWCyspK1dfXN/oLPzIyUmVlZU2OueKKK7RhwwZt2bJFGzdulMfj0dixY/XVV181u53a2lpVVVX5LAAAoPN0+iyD1NRUzZw5UwkJCZowYYJee+01DR48WM8//3yzY3JycmS3272Lw+Ho7DIBAAhqfgWCiIgIWSwWuVwun3aXy6WoqKhWraN3794aPXq0Dh8+3GyfJUuWyO12e5eSkhJ/ygQAAH7yKxCEhIQoMTFRBQUF3jaPx6OCggKlpqa2ah319fX6+OOPFR0d3Wwfq9WqsLAwnwUAAHSeXv4OcDqdmjVrlpKSkpScnKxVq1appqZGmZmZkqSZM2cqJiZGOTk5kqTly5frmmuu0aWXXqrTp0/rqaee0pdffql77723Yz8JAABoM78DQUZGhioqKpSVlaWysjIlJCQoPz/fe6Hh8ePHZTZ/f+Dh66+/1uzZs1VWVqaBAwcqMTFR77//vuLi4jruUwAAgHYxGYZhBLqI86mqqpLdbpfb7eb0AQAAfmjtbyjPMgAAAAQCAABAIAAAACIQAAAAEQgAAIAIBAAAQAQCAAAgAgEAABCBAAAAiEAAAABEIAAAACIQAAAAEQgAAIAIBAAAQFKvQBcAoOPVewwVHT2l8uqzGtLfpuRh4bKYTYEuC0A3RiAAepj8/aVatvWASt1nvW3Rdpuyp8RpUnx0ACsD0J1xygDoQfL3l2rOxmKfMCBJZe6zmrOxWPn7SwNUGYDujkAA9BD1HkPLth6Q0cR7DW3Lth5QvaepHgCCHYEA6CGKjp5qdGTghwxJpe6zKjp6quuKAnDBIBAAPUR5dfNhoC39AAQXAgHQQwzpb+vQfgCCC4EA6CGSh4Ur2m5Tc5MLTTo32yB5WHhXlgXgAkEgAHoIi9mk7ClxktQoFDS8zp4Sx/0IADSJQAD0IJPio7Xm7qsVZfc9LRBlt2nN3VdzHwIAzeLGREAPMyk+WjfERXGnQgB+adMRgtzcXMXGxspmsyklJUVFRUWtGrdp0yaZTCZNnTq1LZsF0EoWs0mpwwfploQYpQ4fRBgAcF5+B4K8vDw5nU5lZ2eruLhYo0aNUnp6usrLy1scd+zYMf3617/W+PHj21wsAADoHH4HgpUrV2r27NnKzMxUXFyc1q5dq9DQUG3YsKHZMfX19brrrru0bNkyXXLJJe0qGAAAdDy/AkFdXZ327t2rtLS071dgNistLU2FhYXNjlu+fLmGDBmie+65p+2VAgCATuPXRYWVlZWqr69XZGSkT3tkZKQOHjzY5Jjdu3dr/fr12rdvX6u3U1tbq9raWu/rqqoqf8oEAAB+6tRph9XV1ZoxY4bWrVuniIiIVo/LycmR3W73Lg6HoxOrBAAAfh0hiIiIkMVikcvl8ml3uVyKiopq1P+LL77QsWPHNGXKFG+bx+M5t+FevXTo0CENHz680bglS5bI6XR6X1dVVREKAADoRH4FgpCQECUmJqqgoMA7ddDj8aigoEDz589v1H/EiBH6+OOPfdqWLl2q6upq/e53v2v2R95qtcpqtfpTGgAAaAe/b0zkdDo1a9YsJSUlKTk5WatWrVJNTY0yMzMlSTNnzlRMTIxycnJks9kUHx/vM37AgAGS1KgdAAAEjt+BICMjQxUVFcrKylJZWZkSEhKUn5/vvdDw+PHjMpu5IzIAABcSk2EYRqCLOJ+qqirZ7Xa53W6FhYUFuhwAAC4Yrf0N5U95AABAIAAAAAQCAAAgAgEAABCBAAAAiEAAAABEIAAAACIQAAAAEQgAAIAIBAAAQAQCAAAgAgEAABCBAAAAiEAAAABEIAAAACIQAAAAEQgAAIAIBAAAQAQCAAAgAgEAABCBAAAAiEAAAABEIAAAACIQAAAAEQgAAIAIBAAAQG0MBLm5uYqNjZXNZlNKSoqKioqa7fvaa68pKSlJAwYMUN++fZWQkKCXXnqpzQUDAICO53cgyMvLk9PpVHZ2toqLizVq1Cilp6ervLy8yf7h4eF6+OGHVVhYqI8++kiZmZnKzMzU9u3b2108AADoGCbDMAx/BqSkpGjMmDFavXq1JMnj8cjhcGjBggVavHhxq9Zx9dVXa/LkyXr00Udb1b+qqkp2u11ut1thYWH+lAsAQFBr7W+oX0cI6urqtHfvXqWlpX2/ArNZaWlpKiwsPO94wzBUUFCgQ4cO6brrrmu2X21traqqqnwWAADQefwKBJWVlaqvr1dkZKRPe2RkpMrKypod53a71a9fP4WEhGjy5Mn613/9V91www3N9s/JyZHdbvcuDofDnzIBAICfumSWQf/+/bVv3z7t2bNHjz/+uJxOp3bu3Nls/yVLlsjtdnuXkpKSrigTAICg1cufzhEREbJYLHK5XD7tLpdLUVFRzY4zm8269NJLJUkJCQn69NNPlZOTo4kTJzbZ32q1ymq1+lMaAABoB7+OEISEhCgxMVEFBQXeNo/Ho4KCAqWmprZ6PR6PR7W1tf5sGgAAdCK/jhBIktPp1KxZs5SUlKTk5GStWrVKNTU1yszMlCTNnDlTMTExysnJkXTueoCkpCQNHz5ctbW12rZtm1566SWtWbOmYz8JAABoM78DQUZGhioqKpSVlaWysjIlJCQoPz/fe6Hh8ePHZTZ/f+ChpqZGc+fO1VdffaU+ffpoxIgR2rhxozIyMjruUwAAgHbx+z4EgcB9CAAAaJtOuQ8BAADomQgEAACAQAAAAAgEAABABAIAACACAQAAEIEAAACIQAAAAEQgAAAAIhAAAAARCAAAgAgEAABABAIAACACAQAAEIEAAACIQAAAAEQgAAAAIhAAAAARCAAAgAgEAABABAIAACACAQAAEIEAAACIQAAAAEQgAAAAamMgyM3NVWxsrGw2m1JSUlRUVNRs33Xr1mn8+PEaOHCgBg4cqLS0tBb7AwCArud3IMjLy5PT6VR2draKi4s1atQopaenq7y8vMn+O3fu1J133ql3331XhYWFcjgcuvHGG3XixIl2Fw8AADqGyTAMw58BKSkpGjNmjFavXi1J8ng8cjgcWrBggRYvXnze8fX19Ro4cKBWr16tmTNntmqbVVVVstvtcrvdCgsL86dcAACCWmt/Q/06QlBXV6e9e/cqLS3t+xWYzUpLS1NhYWGr1nHmzBl9++23Cg8Pb7ZPbW2tqqqqfBYAANB5/AoElZWVqq+vV2RkpE97ZGSkysrKWrWORYsWaejQoT6h4m/l5OTIbrd7F4fD4U+ZAADAT106y2DFihXatGmTXn/9ddlstmb7LVmyRG6327uUlJR0YZUAAASfXv50joiIkMVikcvl8ml3uVyKiopqcezTTz+tFStW6O2339ZVV13VYl+r1Sqr1epPaQAAoB38OkIQEhKixMREFRQUeNs8Ho8KCgqUmpra7Lgnn3xSjz76qPLz85WUlNT2agEAQKfw6wiBJDmdTs2aNUtJSUlKTk7WqlWrVFNTo8zMTEnSzJkzFRMTo5ycHEnSb3/7W2VlZemVV15RbGys91qDfv36qV+/fh34UQAAQFv5HQgyMjJUUVGhrKwslZWVKSEhQfn5+d4LDY8fPy6z+fsDD2vWrFFdXZ1uu+02n/VkZ2frkUceaV/1AACgQ/h9H4JA4D4EAAC0TafchwAAAPRMBAIAAEAgAAAABAIAACACAQAAEIEAAACIQAAAAEQgAAAAIhAAAAARCAAAgAgEAABABAIAAKA2PO0QAIALUb3HUNHRUyqvPqsh/W1KHhYui9kU6LK6DQIBAKDHy99fqmVbD6jUfdbbFm23KXtKnCbFRwewsu6DUwZBrN5jqPCL/9OWfSdU+MX/qd7T7Z+EDQB+y99fqjkbi33CgCSVuc9qzsZi5e8vDVBl3QtHCIIUaRlAMKj3GFq29YCa+nPHkGSStGzrAd0QFxX0pw84QhCESMsAgkXR0VON/l/3Q4akUvdZFR091XVFdVMEgiBzvrQsnUvLnD4A0BOUVzcfBtrSrycjEAQZ0jKAYDKkv61D+/VkBIIgQ1oGEEySh4Ur2m5Tc1cHmHTu+qnkYeFdWVa3RCAIMqRlAMHEYjYpe0qcJDUKBQ2vs6fEBf0FhRKBIOiQlgEEm0nx0Vpz99WKsvv+oRNlt2nN3Vczs+r/Y9phkGlIy3M2Fssk+VxcSFoG0FNNio/WDXFR3KmwBSbDMLr95eRVVVWy2+1yu90KCwsLdDk9AvchAIDg0NrfUI4QBCnSMgDgh9p0DUFubq5iY2Nls9mUkpKioqKiZvt+8sknuvXWWxUbGyuTyaRVq1a1tVZ0MIvZpNThg3RLQoxShw8iDABAEPM7EOTl5cnpdCo7O1vFxcUaNWqU0tPTVV5e3mT/M2fO6JJLLtGKFSsUFRXV7oIBAEDH8/sagpSUFI0ZM0arV6+WJHk8HjkcDi1YsECLFy9ucWxsbKwefPBBPfjgg34VyTUEAICeqrMfy9wp1xDU1dVp7969WrJkibfNbDYrLS1NhYWFba8WAIAg1J0u8PbrlEFlZaXq6+sVGRnp0x4ZGamysrIOK6q2tlZVVVU+CwAAPUl3e9Bct7wxUU5Ojux2u3dxOByBLgkAgA7THR8051cgiIiIkMVikcvl8ml3uVwdesHgkiVL5Ha7vUtJSUmHrRsAgEDrjg+a8ysQhISEKDExUQUFBd42j8ejgoICpaamdlhRVqtVYWFhPgsAAD1Fd3zQnN83JnI6nZo1a5aSkpKUnJysVatWqaamRpmZmZKkmTNnKiYmRjk5OZLOXYh44MAB73+fOHFC+/btU79+/XTppZd24EcBAODC0B0fNOd3IMjIyFBFRYWysrJUVlamhIQE5efney80PH78uMzm7w88nDx5UqNHj/a+fvrpp/X0009rwoQJ2rlzZ/s/AQAAF5iGB82Vuc82eR2BSecevtSVD5rjWQYAAARAwywDqekHzXXUkxhb+xvaLWcZAADQ03W3xzLzcCMAAAKkOz1ojkAAAEAANTxoLtA4ZQAAADhCAABAd9DZDzk6HwIBAAAB1h0ecsQpAwAAAqi7POSIQAAAQIB0p4ccEQgAAAiQ7vSQIwIBAAAB0p0eckQgAAAgQLrTQ46YZYBmBXoKDAD0dN3pIUcEAjSpO0yBAYCezmI2KXtKnOZsLJZJTT/kKHtKXJf8McYpAzTSXabAAEAw6C4POeIIAXycbwqMSeemwNwQF8XpAwDoIN3hIUcEAvjwZwpMd3gYBwD0FIF+yBGnDOCjO02BAQB0HQIBfHSnKTAAgK5DIICPhikwzZ21MuncbIOumAIDAOg6BAL4aJgCI6lRKOjqKTAAgK5DIEAj3WUKDACg6zDLAE3qDlNgAABdh0CAZgV6CgwAoOtwygAAABAIAABAGwNBbm6uYmNjZbPZlJKSoqKiohb7v/rqqxoxYoRsNptGjhypbdu2talYAADQOfwOBHl5eXI6ncrOzlZxcbFGjRql9PR0lZeXN9n//fff15133ql77rlHH374oaZOnaqpU6dq//797S4eAAB0DJNhGE09x6ZZKSkpGjNmjFavXi1J8ng8cjgcWrBggRYvXtyof0ZGhmpqavTGG29426655holJCRo7dq1rdpmVVWV7Ha73G63wsLC/CkXAICg1trfUL+OENTV1Wnv3r1KS0v7fgVms9LS0lRYWNjkmMLCQp/+kpSent5sfwAA0PX8mnZYWVmp+vp6RUZG+rRHRkbq4MGDTY4pKytrsn9ZWVmz26mtrVVtba33tdvtlnQu5QAAgNZr+O083wmBbnkfgpycHC1btqxRu8PhCEA1AABc+Kqrq2W325t9369AEBERIYvFIpfL5dPucrkUFRXV5JioqCi/+kvSkiVL5HQ6va89Ho9OnTqlQYMGyWTiTnmBVlVVJYfDoZKSEq7p6EbYL90T+6X7CpZ9YxiGqqurNXTo0Bb7+RUIQkJClJiYqIKCAk2dOlXSuR/rgoICzZ8/v8kxqampKigo0IMPPuht27Fjh1JTU5vdjtVqldVq9WkbMGCAP6WiC4SFhfXof0QXKvZL98R+6b6CYd+0dGSggd+nDJxOp2bNmqWkpCQlJydr1apVqqmpUWZmpiRp5syZiomJUU5OjiTpgQce0IQJE/TMM89o8uTJ2rRpkz744AO98MIL/m4aAAB0Er8DQUZGhioqKpSVlaWysjIlJCQoPz/fe+Hg8ePHZTZ/P3lh7NixeuWVV7R06VI99NBDuuyyy/Sf//mfio+P77hPAQAA2qVNFxXOnz+/2VMEO3fubNQ2bdo0TZs2rS2bQjdktVqVnZ3d6LQOAov90j2xX7ov9o0vv29MBAAAeh4ebgQAAAgEAACAQAAAAEQgAAAAIhCgGbm5uYqNjZXNZlNKSoqKioqa7btu3TqNHz9eAwcO1MCBA5WWltZif7SdP/vlhzZt2iSTyeS9oRg6lr/75fTp05o3b56io6NltVp1+eWXa9u2bV1UbXDxd9+sWrVKV1xxhfr06SOHw6GFCxfq7NmzXVRtgBnA39i0aZMREhJibNiwwfjkk0+M2bNnGwMGDDBcLleT/adPn27k5uYaH374ofHpp58av/jFLwy73W589dVXXVx5z+bvfmlw9OhRIyYmxhg/frxxyy23dE2xQcTf/VJbW2skJSUZN998s7F7927j6NGjxs6dO419+/Z1ceU9n7/75uWXXzasVqvx8ssvG0ePHjW2b99uREdHGwsXLuziygODQIBGkpOTjXnz5nlf19fXG0OHDjVycnJaNf67774z+vfvb/zxj3/srBKDUlv2y3fffWeMHTvW+P3vf2/MmjWLQNAJ/N0va9asMS655BKjrq6uq0oMWv7um3nz5hk/+clPfNqcTqdx7bXXdmqd3QWnDOCjrq5Oe/fuVVpamrfNbDYrLS1NhYWFrVrHmTNn9O233yo8PLyzygw6bd0vy5cv15AhQ3TPPfd0RZlBpy375b/+67+UmpqqefPmKTIyUvHx8XriiSdUX1/fVWUHhbbsm7Fjx2rv3r3e0wpHjhzRtm3bdPPNN3dJzYHWLR9/jMCprKxUfX2991bUDSIjI3Xw4MFWrWPRokUaOnSozz9EtE9b9svu3bu1fv167du3rwsqDE5t2S9HjhzRO++8o7vuukvbtm3T4cOHNXfuXH377bfKzs7uirKDQlv2zfTp01VZWalx48bJMAx99913+od/+Ac99NBDXVFywHGEAB1qxYoV2rRpk15//XXZbLZAlxO0qqurNWPGDK1bt04RERGBLgc/4PF4NGTIEL3wwgtKTExURkaGHn74Ya1duzbQpQW9nTt36oknntBzzz2n4uJivfbaa3rzzTf16KOPBrq0LsERAviIiIiQxWKRy+XyaXe5XIqKimpx7NNPP60VK1bo7bff1lVXXdWZZQYdf/fLF198oWPHjmnKlCneNo/HI0nq1auXDh06pOHDh3du0UGgLf9eoqOj1bt3b1ksFm/blVdeqbKyMtXV1SkkJKRTaw4Wbdk3v/nNbzRjxgzde++9kqSRI0eqpqZG9913nx5++GGfB/f1RD3708FvISEhSkxMVEFBgbfN4/GooKBAqampzY578skn9eijjyo/P19JSUldUWpQ8Xe/jBgxQh9//LH27dvnXX72s5/p+uuv1759++RwOLqy/B6rLf9err32Wh0+fNgb0CTps88+U3R0NGGgA7Vl35w5c6bRj35DcDOC4bE/gb6qEd3Ppk2bDKvVarz44ovGgQMHjPvuu88YMGCAUVZWZhiGYcyYMcNYvHixt/+KFSuMkJAQY/PmzUZpaal3qa6uDtRH6JH83S9/i1kGncPf/XL8+HGjf//+xvz5841Dhw4Zb7zxhjFkyBDjscceC9RH6LH83TfZ2dlG//79jX//9383jhw5Yrz11lvG8OHDjdtvvz1QH6FLccoAjWRkZKiiokJZWVkqKytTQkKC8vPzvRfnHD9+3CdFr1mzRnV1dbrtttt81pOdna1HHnmkK0vv0fzdL+ga/u4Xh8Oh7du3a+HChbrqqqsUExOjBx54QIsWLQrUR+ix/N03S5culclk0tKlS3XixAkNHjxYU6ZM0eOPPx6oj9ClePwxAADgGgIAAEAgAAAAIhAAAAARCAAAgAgEAABABAIAACACAQAAEIEAAACIQAAAAEQgAAAAIhAAAAARCAAAgKT/Bwu3RAoLF5/oAAAAAElFTkSuQmCC",
          "text/plain": "<Figure size 600x400 with 1 Axes>"
         },
         "metadata": {},
         "output_type": "display_data"
        }
       ]
      }
     },
     "3f4c7b2897544d9f9e9a74b31a071de2": {
      "model_module": "@jupyter-widgets/base",
      "model_module_version": "1.2.0",
      "model_name": "LayoutModel",
      "state": {
       "_model_module": "@jupyter-widgets/base",
       "_model_module_version": "1.2.0",
       "_model_name": "LayoutModel",
       "_view_count": null,
       "_view_module": "@jupyter-widgets/base",
       "_view_module_version": "1.2.0",
       "_view_name": "LayoutView",
       "align_content": null,
       "align_items": null,
       "align_self": null,
       "border": null,
       "bottom": null,
       "display": null,
       "flex": null,
       "flex_flow": null,
       "grid_area": null,
       "grid_auto_columns": null,
       "grid_auto_flow": null,
       "grid_auto_rows": null,
       "grid_column": null,
       "grid_gap": null,
       "grid_row": null,
       "grid_template_areas": null,
       "grid_template_columns": null,
       "grid_template_rows": null,
       "height": null,
       "justify_content": null,
       "justify_items": null,
       "left": null,
       "margin": null,
       "max_height": null,
       "max_width": null,
       "min_height": null,
       "min_width": null,
       "object_fit": null,
       "object_position": null,
       "order": null,
       "overflow": null,
       "overflow_x": null,
       "overflow_y": null,
       "padding": null,
       "right": null,
       "top": null,
       "visibility": null,
       "width": null
      }
     },
     "4a1f58c16aba41ef96d47721c031c521": {
      "model_module": "@jupyter-widgets/base",
      "model_module_version": "1.2.0",
      "model_name": "LayoutModel",
      "state": {
       "_model_module": "@jupyter-widgets/base",
       "_model_module_version": "1.2.0",
       "_model_name": "LayoutModel",
       "_view_count": null,
       "_view_module": "@jupyter-widgets/base",
       "_view_module_version": "1.2.0",
       "_view_name": "LayoutView",
       "align_content": null,
       "align_items": null,
       "align_self": null,
       "border": null,
       "bottom": null,
       "display": null,
       "flex": null,
       "flex_flow": null,
       "grid_area": null,
       "grid_auto_columns": null,
       "grid_auto_flow": null,
       "grid_auto_rows": null,
       "grid_column": null,
       "grid_gap": null,
       "grid_row": null,
       "grid_template_areas": null,
       "grid_template_columns": null,
       "grid_template_rows": null,
       "height": null,
       "justify_content": null,
       "justify_items": null,
       "left": null,
       "margin": null,
       "max_height": null,
       "max_width": null,
       "min_height": null,
       "min_width": null,
       "object_fit": null,
       "object_position": null,
       "order": null,
       "overflow": null,
       "overflow_x": null,
       "overflow_y": null,
       "padding": null,
       "right": null,
       "top": null,
       "visibility": null,
       "width": null
      }
     },
     "6955ae445dfe41988b82eec73dbe4d4c": {
      "model_module": "@jupyter-widgets/base",
      "model_module_version": "1.2.0",
      "model_name": "LayoutModel",
      "state": {
       "_model_module": "@jupyter-widgets/base",
       "_model_module_version": "1.2.0",
       "_model_name": "LayoutModel",
       "_view_count": null,
       "_view_module": "@jupyter-widgets/base",
       "_view_module_version": "1.2.0",
       "_view_name": "LayoutView",
       "align_content": null,
       "align_items": null,
       "align_self": null,
       "border": null,
       "bottom": null,
       "display": null,
       "flex": null,
       "flex_flow": null,
       "grid_area": null,
       "grid_auto_columns": null,
       "grid_auto_flow": null,
       "grid_auto_rows": null,
       "grid_column": null,
       "grid_gap": null,
       "grid_row": null,
       "grid_template_areas": null,
       "grid_template_columns": null,
       "grid_template_rows": null,
       "height": null,
       "justify_content": null,
       "justify_items": null,
       "left": null,
       "margin": null,
       "max_height": null,
       "max_width": null,
       "min_height": null,
       "min_width": null,
       "object_fit": null,
       "object_position": null,
       "order": null,
       "overflow": null,
       "overflow_x": null,
       "overflow_y": null,
       "padding": null,
       "right": null,
       "top": null,
       "visibility": null,
       "width": null
      }
     },
     "777fe5e9cf3341d19d559eadcbc6d3fc": {
      "model_module": "@jupyter-widgets/controls",
      "model_module_version": "1.5.0",
      "model_name": "VBoxModel",
      "state": {
       "_dom_classes": [
        "widget-interact"
       ],
       "_model_module": "@jupyter-widgets/controls",
       "_model_module_version": "1.5.0",
       "_model_name": "VBoxModel",
       "_view_count": null,
       "_view_module": "@jupyter-widgets/controls",
       "_view_module_version": "1.5.0",
       "_view_name": "VBoxView",
       "box_style": "",
       "children": [
        "IPY_MODEL_860d0a60d3f14b97bca40c48662aa373",
        "IPY_MODEL_906aea3f2d3b4bfab0cb56e175724191"
       ],
       "layout": "IPY_MODEL_6955ae445dfe41988b82eec73dbe4d4c"
      }
     },
     "7abf3d2222974a0690412aa0238aef9b": {
      "model_module": "@jupyter-widgets/base",
      "model_module_version": "1.2.0",
      "model_name": "LayoutModel",
      "state": {
       "_model_module": "@jupyter-widgets/base",
       "_model_module_version": "1.2.0",
       "_model_name": "LayoutModel",
       "_view_count": null,
       "_view_module": "@jupyter-widgets/base",
       "_view_module_version": "1.2.0",
       "_view_name": "LayoutView",
       "align_content": null,
       "align_items": null,
       "align_self": null,
       "border": null,
       "bottom": null,
       "display": null,
       "flex": null,
       "flex_flow": null,
       "grid_area": null,
       "grid_auto_columns": null,
       "grid_auto_flow": null,
       "grid_auto_rows": null,
       "grid_column": null,
       "grid_gap": null,
       "grid_row": null,
       "grid_template_areas": null,
       "grid_template_columns": null,
       "grid_template_rows": null,
       "height": null,
       "justify_content": null,
       "justify_items": null,
       "left": null,
       "margin": null,
       "max_height": null,
       "max_width": null,
       "min_height": null,
       "min_width": null,
       "object_fit": null,
       "object_position": null,
       "order": null,
       "overflow": null,
       "overflow_x": null,
       "overflow_y": null,
       "padding": null,
       "right": null,
       "top": null,
       "visibility": null,
       "width": null
      }
     },
     "860d0a60d3f14b97bca40c48662aa373": {
      "model_module": "@jupyter-widgets/controls",
      "model_module_version": "1.5.0",
      "model_name": "IntSliderModel",
      "state": {
       "_dom_classes": [],
       "_model_module": "@jupyter-widgets/controls",
       "_model_module_version": "1.5.0",
       "_model_name": "IntSliderModel",
       "_view_count": null,
       "_view_module": "@jupyter-widgets/controls",
       "_view_module_version": "1.5.0",
       "_view_name": "IntSliderView",
       "continuous_update": true,
       "description": "n",
       "description_tooltip": null,
       "disabled": false,
       "layout": "IPY_MODEL_7abf3d2222974a0690412aa0238aef9b",
       "max": 100,
       "min": 1,
       "orientation": "horizontal",
       "readout": true,
       "readout_format": "d",
       "step": 1,
       "style": "IPY_MODEL_cd814b16a6444f2e836f8f1fdd7ba98b",
       "value": 10
      }
     },
     "906aea3f2d3b4bfab0cb56e175724191": {
      "model_module": "@jupyter-widgets/output",
      "model_module_version": "1.0.0",
      "model_name": "OutputModel",
      "state": {
       "_dom_classes": [],
       "_model_module": "@jupyter-widgets/output",
       "_model_module_version": "1.0.0",
       "_model_name": "OutputModel",
       "_view_count": null,
       "_view_module": "@jupyter-widgets/output",
       "_view_module_version": "1.0.0",
       "_view_name": "OutputView",
       "layout": "IPY_MODEL_3f4c7b2897544d9f9e9a74b31a071de2",
       "msg_id": "",
       "outputs": []
      }
     },
     "cd814b16a6444f2e836f8f1fdd7ba98b": {
      "model_module": "@jupyter-widgets/controls",
      "model_module_version": "1.5.0",
      "model_name": "SliderStyleModel",
      "state": {
       "_model_module": "@jupyter-widgets/controls",
       "_model_module_version": "1.5.0",
       "_model_name": "SliderStyleModel",
       "_view_count": null,
       "_view_module": "@jupyter-widgets/base",
       "_view_module_version": "1.2.0",
       "_view_name": "StyleView",
       "description_width": "",
       "handle_color": null
      }
     }
    },
    "version_major": 2,
    "version_minor": 0
   }
  }
 },
 "nbformat": 4,
 "nbformat_minor": 5
}