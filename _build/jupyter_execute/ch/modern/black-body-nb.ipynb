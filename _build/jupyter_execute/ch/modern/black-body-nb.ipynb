{
 "cells": [
  {
   "cell_type": "markdown",
   "id": "38d65b70-f33b-436f-8582-0a4c60bd64f8",
   "metadata": {},
   "source": [
    "(physics-hs:modern:black-body)=\n",
    "# Black body radiation"
   ]
  },
  {
   "cell_type": "code",
   "execution_count": 1,
   "id": "3694ef4a-9083-4784-bd73-17f4ea7ba690",
   "metadata": {},
   "outputs": [
    {
     "data": {
      "application/vnd.jupyter.widget-view+json": {
       "model_id": "c518f645ec2e43a0a0d9f1c2a4c72744",
       "version_major": 2,
       "version_minor": 0
      },
      "text/plain": [
       "interactive(children=(IntSlider(value=10, description='n', min=1), Output()), _dom_classes=('widget-interact',…"
      ]
     },
     "metadata": {},
     "output_type": "display_data"
    },
    {
     "data": {
      "application/vnd.jupyter.widget-view+json": {
       "model_id": "357f9a723c7746c5bb85e6868f30603f",
       "version_major": 2,
       "version_minor": 0
      },
      "text/plain": [
       "Output()"
      ]
     },
     "metadata": {},
     "output_type": "display_data"
    }
   ],
   "source": [
    "import numpy as np\n",
    "import matplotlib.pyplot as plt\n",
    "from ipywidgets import interactive, widgets, Output\n",
    "from IPython.display import display, clear_output\n",
    "\n",
    "# Create an Output widget to capture and update the plot\n",
    "out = Output()\n",
    "\n",
    "# Function to update plot\n",
    "def plot_fun(n):\n",
    "    with out:\n",
    "        clear_output(wait=True)  # Clear the previous output\n",
    "        plt.figure(figsize=(6, 4))\n",
    "        plt.plot(np.random.random(n), np.random.random(n), 'o')\n",
    "        plt.title(f\"Plot with {n} points\")\n",
    "        plt.show()\n",
    "\n",
    "# Create the slider widget\n",
    "n_slider = widgets.IntSlider(min=1, max=100, step=1, value=10)\n",
    "\n",
    "# Create the interactive widget\n",
    "interactive_plot = interactive(plot_fun, n=n_slider)\n",
    "\n",
    "# Display the slider and the plot output\n",
    "display(interactive_plot, out)"
   ]
  },
  {
   "cell_type": "code",
   "execution_count": null,
   "id": "956d33e9-f92b-45b2-8eb2-dbbfb7ba13c1",
   "metadata": {},
   "outputs": [],
   "source": []
  }
 ],
 "metadata": {
  "kernelspec": {
   "display_name": "Python 3 (ipykernel)",
   "language": "python",
   "name": "python3"
  },
  "language_info": {
   "codemirror_mode": {
    "name": "ipython",
    "version": 3
   },
   "file_extension": ".py",
   "mimetype": "text/x-python",
   "name": "python",
   "nbconvert_exporter": "python",
   "pygments_lexer": "ipython3",
   "version": "3.8.10"
  },
  "widgets": {
   "application/vnd.jupyter.widget-state+json": {
    "state": {
     "0dea9cc108014f4080c473dab6c9d8e2": {
      "model_module": "@jupyter-widgets/base",
      "model_module_version": "1.2.0",
      "model_name": "LayoutModel",
      "state": {
       "_model_module": "@jupyter-widgets/base",
       "_model_module_version": "1.2.0",
       "_model_name": "LayoutModel",
       "_view_count": null,
       "_view_module": "@jupyter-widgets/base",
       "_view_module_version": "1.2.0",
       "_view_name": "LayoutView",
       "align_content": null,
       "align_items": null,
       "align_self": null,
       "border": null,
       "bottom": null,
       "display": null,
       "flex": null,
       "flex_flow": null,
       "grid_area": null,
       "grid_auto_columns": null,
       "grid_auto_flow": null,
       "grid_auto_rows": null,
       "grid_column": null,
       "grid_gap": null,
       "grid_row": null,
       "grid_template_areas": null,
       "grid_template_columns": null,
       "grid_template_rows": null,
       "height": null,
       "justify_content": null,
       "justify_items": null,
       "left": null,
       "margin": null,
       "max_height": null,
       "max_width": null,
       "min_height": null,
       "min_width": null,
       "object_fit": null,
       "object_position": null,
       "order": null,
       "overflow": null,
       "overflow_x": null,
       "overflow_y": null,
       "padding": null,
       "right": null,
       "top": null,
       "visibility": null,
       "width": null
      }
     },
     "357f9a723c7746c5bb85e6868f30603f": {
      "model_module": "@jupyter-widgets/output",
      "model_module_version": "1.0.0",
      "model_name": "OutputModel",
      "state": {
       "_dom_classes": [],
       "_model_module": "@jupyter-widgets/output",
       "_model_module_version": "1.0.0",
       "_model_name": "OutputModel",
       "_view_count": null,
       "_view_module": "@jupyter-widgets/output",
       "_view_module_version": "1.0.0",
       "_view_name": "OutputView",
       "layout": "IPY_MODEL_c13d316a906e463bac371ed58a12b728",
       "msg_id": "",
       "outputs": [
        {
         "data": {
          "image/png": "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",
          "text/plain": "<Figure size 600x400 with 1 Axes>"
         },
         "metadata": {},
         "output_type": "display_data"
        }
       ]
      }
     },
     "382a74c5c7574217be47691bbe8feddb": {
      "model_module": "@jupyter-widgets/base",
      "model_module_version": "1.2.0",
      "model_name": "LayoutModel",
      "state": {
       "_model_module": "@jupyter-widgets/base",
       "_model_module_version": "1.2.0",
       "_model_name": "LayoutModel",
       "_view_count": null,
       "_view_module": "@jupyter-widgets/base",
       "_view_module_version": "1.2.0",
       "_view_name": "LayoutView",
       "align_content": null,
       "align_items": null,
       "align_self": null,
       "border": null,
       "bottom": null,
       "display": null,
       "flex": null,
       "flex_flow": null,
       "grid_area": null,
       "grid_auto_columns": null,
       "grid_auto_flow": null,
       "grid_auto_rows": null,
       "grid_column": null,
       "grid_gap": null,
       "grid_row": null,
       "grid_template_areas": null,
       "grid_template_columns": null,
       "grid_template_rows": null,
       "height": null,
       "justify_content": null,
       "justify_items": null,
       "left": null,
       "margin": null,
       "max_height": null,
       "max_width": null,
       "min_height": null,
       "min_width": null,
       "object_fit": null,
       "object_position": null,
       "order": null,
       "overflow": null,
       "overflow_x": null,
       "overflow_y": null,
       "padding": null,
       "right": null,
       "top": null,
       "visibility": null,
       "width": null
      }
     },
     "4b54d33e7da040b09b6670d1aad2777b": {
      "model_module": "@jupyter-widgets/base",
      "model_module_version": "1.2.0",
      "model_name": "LayoutModel",
      "state": {
       "_model_module": "@jupyter-widgets/base",
       "_model_module_version": "1.2.0",
       "_model_name": "LayoutModel",
       "_view_count": null,
       "_view_module": "@jupyter-widgets/base",
       "_view_module_version": "1.2.0",
       "_view_name": "LayoutView",
       "align_content": null,
       "align_items": null,
       "align_self": null,
       "border": null,
       "bottom": null,
       "display": null,
       "flex": null,
       "flex_flow": null,
       "grid_area": null,
       "grid_auto_columns": null,
       "grid_auto_flow": null,
       "grid_auto_rows": null,
       "grid_column": null,
       "grid_gap": null,
       "grid_row": null,
       "grid_template_areas": null,
       "grid_template_columns": null,
       "grid_template_rows": null,
       "height": null,
       "justify_content": null,
       "justify_items": null,
       "left": null,
       "margin": null,
       "max_height": null,
       "max_width": null,
       "min_height": null,
       "min_width": null,
       "object_fit": null,
       "object_position": null,
       "order": null,
       "overflow": null,
       "overflow_x": null,
       "overflow_y": null,
       "padding": null,
       "right": null,
       "top": null,
       "visibility": null,
       "width": null
      }
     },
     "c13d316a906e463bac371ed58a12b728": {
      "model_module": "@jupyter-widgets/base",
      "model_module_version": "1.2.0",
      "model_name": "LayoutModel",
      "state": {
       "_model_module": "@jupyter-widgets/base",
       "_model_module_version": "1.2.0",
       "_model_name": "LayoutModel",
       "_view_count": null,
       "_view_module": "@jupyter-widgets/base",
       "_view_module_version": "1.2.0",
       "_view_name": "LayoutView",
       "align_content": null,
       "align_items": null,
       "align_self": null,
       "border": null,
       "bottom": null,
       "display": null,
       "flex": null,
       "flex_flow": null,
       "grid_area": null,
       "grid_auto_columns": null,
       "grid_auto_flow": null,
       "grid_auto_rows": null,
       "grid_column": null,
       "grid_gap": null,
       "grid_row": null,
       "grid_template_areas": null,
       "grid_template_columns": null,
       "grid_template_rows": null,
       "height": null,
       "justify_content": null,
       "justify_items": null,
       "left": null,
       "margin": null,
       "max_height": null,
       "max_width": null,
       "min_height": null,
       "min_width": null,
       "object_fit": null,
       "object_position": null,
       "order": null,
       "overflow": null,
       "overflow_x": null,
       "overflow_y": null,
       "padding": null,
       "right": null,
       "top": null,
       "visibility": null,
       "width": null
      }
     },
     "c518f645ec2e43a0a0d9f1c2a4c72744": {
      "model_module": "@jupyter-widgets/controls",
      "model_module_version": "1.5.0",
      "model_name": "VBoxModel",
      "state": {
       "_dom_classes": [
        "widget-interact"
       ],
       "_model_module": "@jupyter-widgets/controls",
       "_model_module_version": "1.5.0",
       "_model_name": "VBoxModel",
       "_view_count": null,
       "_view_module": "@jupyter-widgets/controls",
       "_view_module_version": "1.5.0",
       "_view_name": "VBoxView",
       "box_style": "",
       "children": [
        "IPY_MODEL_f3215f6b865741e8affe363bb109ffe6",
        "IPY_MODEL_dcea0d9c33274aab941956f87f5e303a"
       ],
       "layout": "IPY_MODEL_382a74c5c7574217be47691bbe8feddb"
      }
     },
     "cd4983b1021b4ac9a7452ec74fef2e89": {
      "model_module": "@jupyter-widgets/controls",
      "model_module_version": "1.5.0",
      "model_name": "SliderStyleModel",
      "state": {
       "_model_module": "@jupyter-widgets/controls",
       "_model_module_version": "1.5.0",
       "_model_name": "SliderStyleModel",
       "_view_count": null,
       "_view_module": "@jupyter-widgets/base",
       "_view_module_version": "1.2.0",
       "_view_name": "StyleView",
       "description_width": "",
       "handle_color": null
      }
     },
     "dcea0d9c33274aab941956f87f5e303a": {
      "model_module": "@jupyter-widgets/output",
      "model_module_version": "1.0.0",
      "model_name": "OutputModel",
      "state": {
       "_dom_classes": [],
       "_model_module": "@jupyter-widgets/output",
       "_model_module_version": "1.0.0",
       "_model_name": "OutputModel",
       "_view_count": null,
       "_view_module": "@jupyter-widgets/output",
       "_view_module_version": "1.0.0",
       "_view_name": "OutputView",
       "layout": "IPY_MODEL_4b54d33e7da040b09b6670d1aad2777b",
       "msg_id": "",
       "outputs": []
      }
     },
     "f3215f6b865741e8affe363bb109ffe6": {
      "model_module": "@jupyter-widgets/controls",
      "model_module_version": "1.5.0",
      "model_name": "IntSliderModel",
      "state": {
       "_dom_classes": [],
       "_model_module": "@jupyter-widgets/controls",
       "_model_module_version": "1.5.0",
       "_model_name": "IntSliderModel",
       "_view_count": null,
       "_view_module": "@jupyter-widgets/controls",
       "_view_module_version": "1.5.0",
       "_view_name": "IntSliderView",
       "continuous_update": true,
       "description": "n",
       "description_tooltip": null,
       "disabled": false,
       "layout": "IPY_MODEL_0dea9cc108014f4080c473dab6c9d8e2",
       "max": 100,
       "min": 1,
       "orientation": "horizontal",
       "readout": true,
       "readout_format": "d",
       "step": 1,
       "style": "IPY_MODEL_cd4983b1021b4ac9a7452ec74fef2e89",
       "value": 10
      }
     }
    },
    "version_major": 2,
    "version_minor": 0
   }
  }
 },
 "nbformat": 4,
 "nbformat_minor": 5
}