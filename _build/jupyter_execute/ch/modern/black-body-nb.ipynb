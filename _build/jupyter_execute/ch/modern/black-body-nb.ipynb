{
 "cells": [
  {
   "cell_type": "markdown",
   "id": "38d65b70-f33b-436f-8582-0a4c60bd64f8",
   "metadata": {},
   "source": [
    "(physics-hs:modern:black-body)=\n",
    "# Black body radiation"
   ]
  },
  {
   "cell_type": "code",
   "execution_count": 1,
   "id": "3694ef4a-9083-4784-bd73-17f4ea7ba690",
   "metadata": {},
   "outputs": [
    {
     "data": {
      "application/vnd.jupyter.widget-view+json": {
       "model_id": "22683c01b36a4b1b853a9152e54363f4",
       "version_major": 2,
       "version_minor": 0
      },
      "text/plain": [
       "interactive(children=(IntSlider(value=10, description='n', min=1), Output()), _dom_classes=('widget-interact',…"
      ]
     },
     "metadata": {},
     "output_type": "display_data"
    },
    {
     "data": {
      "application/vnd.jupyter.widget-view+json": {
       "model_id": "65b82e0f830748bca4682c8c48295b4e",
       "version_major": 2,
       "version_minor": 0
      },
      "text/plain": [
       "Output()"
      ]
     },
     "metadata": {},
     "output_type": "display_data"
    }
   ],
   "source": [
    "import numpy as np\n",
    "import matplotlib.pyplot as plt\n",
    "from ipywidgets import interactive, widgets, Output\n",
    "from IPython.display import display, clear_output\n",
    "\n",
    "# Create an Output widget to capture and update the plot\n",
    "out = Output()\n",
    "\n",
    "# Function to update plot\n",
    "def plot_fun(n):\n",
    "    with out:\n",
    "        clear_output(wait=True)  # Clear the previous output\n",
    "        plt.figure(figsize=(6, 4))\n",
    "        plt.plot(np.random.random(n), np.random.random(n), 'o')\n",
    "        plt.title(f\"Plot with {n} points\")\n",
    "        plt.show()\n",
    "\n",
    "# Create the slider widget\n",
    "n_slider = widgets.IntSlider(min=1, max=100, step=1, value=10)\n",
    "\n",
    "# Create the interactive widget\n",
    "interactive_plot = interactive(plot_fun, n=n_slider)\n",
    "\n",
    "# Display the slider and the plot output\n",
    "display(interactive_plot, out)"
   ]
  },
  {
   "cell_type": "code",
   "execution_count": null,
   "id": "956d33e9-f92b-45b2-8eb2-dbbfb7ba13c1",
   "metadata": {},
   "outputs": [],
   "source": []
  }
 ],
 "metadata": {
  "kernelspec": {
   "display_name": "Python 3 (ipykernel)",
   "language": "python",
   "name": "python3"
  },
  "language_info": {
   "codemirror_mode": {
    "name": "ipython",
    "version": 3
   },
   "file_extension": ".py",
   "mimetype": "text/x-python",
   "name": "python",
   "nbconvert_exporter": "python",
   "pygments_lexer": "ipython3",
   "version": "3.8.10"
  },
  "widgets": {
   "application/vnd.jupyter.widget-state+json": {
    "state": {
     "02f2baa6135d4365878ed6332b9007be": {
      "model_module": "@jupyter-widgets/base",
      "model_module_version": "1.2.0",
      "model_name": "LayoutModel",
      "state": {
       "_model_module": "@jupyter-widgets/base",
       "_model_module_version": "1.2.0",
       "_model_name": "LayoutModel",
       "_view_count": null,
       "_view_module": "@jupyter-widgets/base",
       "_view_module_version": "1.2.0",
       "_view_name": "LayoutView",
       "align_content": null,
       "align_items": null,
       "align_self": null,
       "border": null,
       "bottom": null,
       "display": null,
       "flex": null,
       "flex_flow": null,
       "grid_area": null,
       "grid_auto_columns": null,
       "grid_auto_flow": null,
       "grid_auto_rows": null,
       "grid_column": null,
       "grid_gap": null,
       "grid_row": null,
       "grid_template_areas": null,
       "grid_template_columns": null,
       "grid_template_rows": null,
       "height": null,
       "justify_content": null,
       "justify_items": null,
       "left": null,
       "margin": null,
       "max_height": null,
       "max_width": null,
       "min_height": null,
       "min_width": null,
       "object_fit": null,
       "object_position": null,
       "order": null,
       "overflow": null,
       "overflow_x": null,
       "overflow_y": null,
       "padding": null,
       "right": null,
       "top": null,
       "visibility": null,
       "width": null
      }
     },
     "22683c01b36a4b1b853a9152e54363f4": {
      "model_module": "@jupyter-widgets/controls",
      "model_module_version": "1.5.0",
      "model_name": "VBoxModel",
      "state": {
       "_dom_classes": [
        "widget-interact"
       ],
       "_model_module": "@jupyter-widgets/controls",
       "_model_module_version": "1.5.0",
       "_model_name": "VBoxModel",
       "_view_count": null,
       "_view_module": "@jupyter-widgets/controls",
       "_view_module_version": "1.5.0",
       "_view_name": "VBoxView",
       "box_style": "",
       "children": [
        "IPY_MODEL_f6ec69e37a774133bebd6a712af0934a",
        "IPY_MODEL_4b32bcafdd2849f1a3a3758541a6b4a1"
       ],
       "layout": "IPY_MODEL_8fbb32cdb15b402dbf4c5fd11c71cf81"
      }
     },
     "4b32bcafdd2849f1a3a3758541a6b4a1": {
      "model_module": "@jupyter-widgets/output",
      "model_module_version": "1.0.0",
      "model_name": "OutputModel",
      "state": {
       "_dom_classes": [],
       "_model_module": "@jupyter-widgets/output",
       "_model_module_version": "1.0.0",
       "_model_name": "OutputModel",
       "_view_count": null,
       "_view_module": "@jupyter-widgets/output",
       "_view_module_version": "1.0.0",
       "_view_name": "OutputView",
       "layout": "IPY_MODEL_ca662c4d96a24030adc6df7e0fa2ec70",
       "msg_id": "",
       "outputs": []
      }
     },
     "65b82e0f830748bca4682c8c48295b4e": {
      "model_module": "@jupyter-widgets/output",
      "model_module_version": "1.0.0",
      "model_name": "OutputModel",
      "state": {
       "_dom_classes": [],
       "_model_module": "@jupyter-widgets/output",
       "_model_module_version": "1.0.0",
       "_model_name": "OutputModel",
       "_view_count": null,
       "_view_module": "@jupyter-widgets/output",
       "_view_module_version": "1.0.0",
       "_view_name": "OutputView",
       "layout": "IPY_MODEL_a12a119761954489b685db27625cc077",
       "msg_id": "",
       "outputs": [
        {
         "data": {
          "image/png": "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",
          "text/plain": "<Figure size 600x400 with 1 Axes>"
         },
         "metadata": {},
         "output_type": "display_data"
        }
       ]
      }
     },
     "8fbb32cdb15b402dbf4c5fd11c71cf81": {
      "model_module": "@jupyter-widgets/base",
      "model_module_version": "1.2.0",
      "model_name": "LayoutModel",
      "state": {
       "_model_module": "@jupyter-widgets/base",
       "_model_module_version": "1.2.0",
       "_model_name": "LayoutModel",
       "_view_count": null,
       "_view_module": "@jupyter-widgets/base",
       "_view_module_version": "1.2.0",
       "_view_name": "LayoutView",
       "align_content": null,
       "align_items": null,
       "align_self": null,
       "border": null,
       "bottom": null,
       "display": null,
       "flex": null,
       "flex_flow": null,
       "grid_area": null,
       "grid_auto_columns": null,
       "grid_auto_flow": null,
       "grid_auto_rows": null,
       "grid_column": null,
       "grid_gap": null,
       "grid_row": null,
       "grid_template_areas": null,
       "grid_template_columns": null,
       "grid_template_rows": null,
       "height": null,
       "justify_content": null,
       "justify_items": null,
       "left": null,
       "margin": null,
       "max_height": null,
       "max_width": null,
       "min_height": null,
       "min_width": null,
       "object_fit": null,
       "object_position": null,
       "order": null,
       "overflow": null,
       "overflow_x": null,
       "overflow_y": null,
       "padding": null,
       "right": null,
       "top": null,
       "visibility": null,
       "width": null
      }
     },
     "9e01b1915e1345e1bcc5aaa16e382273": {
      "model_module": "@jupyter-widgets/controls",
      "model_module_version": "1.5.0",
      "model_name": "SliderStyleModel",
      "state": {
       "_model_module": "@jupyter-widgets/controls",
       "_model_module_version": "1.5.0",
       "_model_name": "SliderStyleModel",
       "_view_count": null,
       "_view_module": "@jupyter-widgets/base",
       "_view_module_version": "1.2.0",
       "_view_name": "StyleView",
       "description_width": "",
       "handle_color": null
      }
     },
     "a12a119761954489b685db27625cc077": {
      "model_module": "@jupyter-widgets/base",
      "model_module_version": "1.2.0",
      "model_name": "LayoutModel",
      "state": {
       "_model_module": "@jupyter-widgets/base",
       "_model_module_version": "1.2.0",
       "_model_name": "LayoutModel",
       "_view_count": null,
       "_view_module": "@jupyter-widgets/base",
       "_view_module_version": "1.2.0",
       "_view_name": "LayoutView",
       "align_content": null,
       "align_items": null,
       "align_self": null,
       "border": null,
       "bottom": null,
       "display": null,
       "flex": null,
       "flex_flow": null,
       "grid_area": null,
       "grid_auto_columns": null,
       "grid_auto_flow": null,
       "grid_auto_rows": null,
       "grid_column": null,
       "grid_gap": null,
       "grid_row": null,
       "grid_template_areas": null,
       "grid_template_columns": null,
       "grid_template_rows": null,
       "height": null,
       "justify_content": null,
       "justify_items": null,
       "left": null,
       "margin": null,
       "max_height": null,
       "max_width": null,
       "min_height": null,
       "min_width": null,
       "object_fit": null,
       "object_position": null,
       "order": null,
       "overflow": null,
       "overflow_x": null,
       "overflow_y": null,
       "padding": null,
       "right": null,
       "top": null,
       "visibility": null,
       "width": null
      }
     },
     "ca662c4d96a24030adc6df7e0fa2ec70": {
      "model_module": "@jupyter-widgets/base",
      "model_module_version": "1.2.0",
      "model_name": "LayoutModel",
      "state": {
       "_model_module": "@jupyter-widgets/base",
       "_model_module_version": "1.2.0",
       "_model_name": "LayoutModel",
       "_view_count": null,
       "_view_module": "@jupyter-widgets/base",
       "_view_module_version": "1.2.0",
       "_view_name": "LayoutView",
       "align_content": null,
       "align_items": null,
       "align_self": null,
       "border": null,
       "bottom": null,
       "display": null,
       "flex": null,
       "flex_flow": null,
       "grid_area": null,
       "grid_auto_columns": null,
       "grid_auto_flow": null,
       "grid_auto_rows": null,
       "grid_column": null,
       "grid_gap": null,
       "grid_row": null,
       "grid_template_areas": null,
       "grid_template_columns": null,
       "grid_template_rows": null,
       "height": null,
       "justify_content": null,
       "justify_items": null,
       "left": null,
       "margin": null,
       "max_height": null,
       "max_width": null,
       "min_height": null,
       "min_width": null,
       "object_fit": null,
       "object_position": null,
       "order": null,
       "overflow": null,
       "overflow_x": null,
       "overflow_y": null,
       "padding": null,
       "right": null,
       "top": null,
       "visibility": null,
       "width": null
      }
     },
     "f6ec69e37a774133bebd6a712af0934a": {
      "model_module": "@jupyter-widgets/controls",
      "model_module_version": "1.5.0",
      "model_name": "IntSliderModel",
      "state": {
       "_dom_classes": [],
       "_model_module": "@jupyter-widgets/controls",
       "_model_module_version": "1.5.0",
       "_model_name": "IntSliderModel",
       "_view_count": null,
       "_view_module": "@jupyter-widgets/controls",
       "_view_module_version": "1.5.0",
       "_view_name": "IntSliderView",
       "continuous_update": true,
       "description": "n",
       "description_tooltip": null,
       "disabled": false,
       "layout": "IPY_MODEL_02f2baa6135d4365878ed6332b9007be",
       "max": 100,
       "min": 1,
       "orientation": "horizontal",
       "readout": true,
       "readout_format": "d",
       "step": 1,
       "style": "IPY_MODEL_9e01b1915e1345e1bcc5aaa16e382273",
       "value": 10
      }
     }
    },
    "version_major": 2,
    "version_minor": 0
   }
  }
 },
 "nbformat": 4,
 "nbformat_minor": 5
}