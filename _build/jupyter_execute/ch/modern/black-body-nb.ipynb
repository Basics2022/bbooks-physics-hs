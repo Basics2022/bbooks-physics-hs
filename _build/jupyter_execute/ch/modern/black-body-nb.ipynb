{
 "cells": [
  {
   "cell_type": "markdown",
   "id": "38d65b70-f33b-436f-8582-0a4c60bd64f8",
   "metadata": {},
   "source": [
    "(physics-hs:modern:black-body)=\n",
    "# Black body radiation"
   ]
  },
  {
   "cell_type": "code",
   "execution_count": 1,
   "id": "3694ef4a-9083-4784-bd73-17f4ea7ba690",
   "metadata": {},
   "outputs": [
    {
     "data": {
      "application/vnd.jupyter.widget-view+json": {
       "model_id": "27d6c822cc36444d960182dfc9de5640",
       "version_major": 2,
       "version_minor": 0
      },
      "text/plain": [
       "interactive(children=(IntSlider(value=10, description='n', min=1), Output()), _dom_classes=('widget-interact',…"
      ]
     },
     "metadata": {},
     "output_type": "display_data"
    },
    {
     "data": {
      "application/vnd.jupyter.widget-view+json": {
       "model_id": "c0b13d970e764466bc209fdada2040db",
       "version_major": 2,
       "version_minor": 0
      },
      "text/plain": [
       "Output()"
      ]
     },
     "metadata": {},
     "output_type": "display_data"
    }
   ],
   "source": [
    "import numpy as np\n",
    "import matplotlib.pyplot as plt\n",
    "from ipywidgets import interactive, widgets, Output\n",
    "from IPython.display import display, clear_output\n",
    "\n",
    "# Create an Output widget to capture and update the plot\n",
    "out = Output()\n",
    "\n",
    "# Function to update plot\n",
    "def plot_fun(n):\n",
    "    with out:\n",
    "        clear_output(wait=True)  # Clear the previous output\n",
    "        plt.figure(figsize=(6, 4))\n",
    "        plt.plot(np.random.random(n), np.random.random(n), 'o')\n",
    "        plt.title(f\"Plot with {n} points\")\n",
    "        plt.show()\n",
    "\n",
    "# Create the slider widget\n",
    "n_slider = widgets.IntSlider(min=1, max=100, step=1, value=10)\n",
    "\n",
    "# Create the interactive widget\n",
    "interactive_plot = interactive(plot_fun, n=n_slider)\n",
    "\n",
    "# Display the slider and the plot output\n",
    "display(interactive_plot, out)"
   ]
  },
  {
   "cell_type": "code",
   "execution_count": null,
   "id": "956d33e9-f92b-45b2-8eb2-dbbfb7ba13c1",
   "metadata": {},
   "outputs": [],
   "source": []
  }
 ],
 "metadata": {
  "kernelspec": {
   "display_name": "Python 3 (ipykernel)",
   "language": "python",
   "name": "python3"
  },
  "language_info": {
   "codemirror_mode": {
    "name": "ipython",
    "version": 3
   },
   "file_extension": ".py",
   "mimetype": "text/x-python",
   "name": "python",
   "nbconvert_exporter": "python",
   "pygments_lexer": "ipython3",
   "version": "3.8.10"
  },
  "widgets": {
   "application/vnd.jupyter.widget-state+json": {
    "state": {
     "27d6c822cc36444d960182dfc9de5640": {
      "model_module": "@jupyter-widgets/controls",
      "model_module_version": "1.5.0",
      "model_name": "VBoxModel",
      "state": {
       "_dom_classes": [
        "widget-interact"
       ],
       "_model_module": "@jupyter-widgets/controls",
       "_model_module_version": "1.5.0",
       "_model_name": "VBoxModel",
       "_view_count": null,
       "_view_module": "@jupyter-widgets/controls",
       "_view_module_version": "1.5.0",
       "_view_name": "VBoxView",
       "box_style": "",
       "children": [
        "IPY_MODEL_2920346517464df9ae889942c9fb2f2b",
        "IPY_MODEL_670cf8a03e4844f29e33e28e86da299b"
       ],
       "layout": "IPY_MODEL_af0e793882c244bf8e5eb236014c5012"
      }
     },
     "2920346517464df9ae889942c9fb2f2b": {
      "model_module": "@jupyter-widgets/controls",
      "model_module_version": "1.5.0",
      "model_name": "IntSliderModel",
      "state": {
       "_dom_classes": [],
       "_model_module": "@jupyter-widgets/controls",
       "_model_module_version": "1.5.0",
       "_model_name": "IntSliderModel",
       "_view_count": null,
       "_view_module": "@jupyter-widgets/controls",
       "_view_module_version": "1.5.0",
       "_view_name": "IntSliderView",
       "continuous_update": true,
       "description": "n",
       "description_tooltip": null,
       "disabled": false,
       "layout": "IPY_MODEL_e9eb1a564aa344d88398ed51ee66f17b",
       "max": 100,
       "min": 1,
       "orientation": "horizontal",
       "readout": true,
       "readout_format": "d",
       "step": 1,
       "style": "IPY_MODEL_45638d05a88049549c0d765de911f3db",
       "value": 10
      }
     },
     "45638d05a88049549c0d765de911f3db": {
      "model_module": "@jupyter-widgets/controls",
      "model_module_version": "1.5.0",
      "model_name": "SliderStyleModel",
      "state": {
       "_model_module": "@jupyter-widgets/controls",
       "_model_module_version": "1.5.0",
       "_model_name": "SliderStyleModel",
       "_view_count": null,
       "_view_module": "@jupyter-widgets/base",
       "_view_module_version": "1.2.0",
       "_view_name": "StyleView",
       "description_width": "",
       "handle_color": null
      }
     },
     "670cf8a03e4844f29e33e28e86da299b": {
      "model_module": "@jupyter-widgets/output",
      "model_module_version": "1.0.0",
      "model_name": "OutputModel",
      "state": {
       "_dom_classes": [],
       "_model_module": "@jupyter-widgets/output",
       "_model_module_version": "1.0.0",
       "_model_name": "OutputModel",
       "_view_count": null,
       "_view_module": "@jupyter-widgets/output",
       "_view_module_version": "1.0.0",
       "_view_name": "OutputView",
       "layout": "IPY_MODEL_d0f153f32f21493fb3dea096afb1cd1b",
       "msg_id": "",
       "outputs": []
      }
     },
     "af0e793882c244bf8e5eb236014c5012": {
      "model_module": "@jupyter-widgets/base",
      "model_module_version": "1.2.0",
      "model_name": "LayoutModel",
      "state": {
       "_model_module": "@jupyter-widgets/base",
       "_model_module_version": "1.2.0",
       "_model_name": "LayoutModel",
       "_view_count": null,
       "_view_module": "@jupyter-widgets/base",
       "_view_module_version": "1.2.0",
       "_view_name": "LayoutView",
       "align_content": null,
       "align_items": null,
       "align_self": null,
       "border": null,
       "bottom": null,
       "display": null,
       "flex": null,
       "flex_flow": null,
       "grid_area": null,
       "grid_auto_columns": null,
       "grid_auto_flow": null,
       "grid_auto_rows": null,
       "grid_column": null,
       "grid_gap": null,
       "grid_row": null,
       "grid_template_areas": null,
       "grid_template_columns": null,
       "grid_template_rows": null,
       "height": null,
       "justify_content": null,
       "justify_items": null,
       "left": null,
       "margin": null,
       "max_height": null,
       "max_width": null,
       "min_height": null,
       "min_width": null,
       "object_fit": null,
       "object_position": null,
       "order": null,
       "overflow": null,
       "overflow_x": null,
       "overflow_y": null,
       "padding": null,
       "right": null,
       "top": null,
       "visibility": null,
       "width": null
      }
     },
     "bf93b6b246e74176bf26567d64adb17d": {
      "model_module": "@jupyter-widgets/base",
      "model_module_version": "1.2.0",
      "model_name": "LayoutModel",
      "state": {
       "_model_module": "@jupyter-widgets/base",
       "_model_module_version": "1.2.0",
       "_model_name": "LayoutModel",
       "_view_count": null,
       "_view_module": "@jupyter-widgets/base",
       "_view_module_version": "1.2.0",
       "_view_name": "LayoutView",
       "align_content": null,
       "align_items": null,
       "align_self": null,
       "border": null,
       "bottom": null,
       "display": null,
       "flex": null,
       "flex_flow": null,
       "grid_area": null,
       "grid_auto_columns": null,
       "grid_auto_flow": null,
       "grid_auto_rows": null,
       "grid_column": null,
       "grid_gap": null,
       "grid_row": null,
       "grid_template_areas": null,
       "grid_template_columns": null,
       "grid_template_rows": null,
       "height": null,
       "justify_content": null,
       "justify_items": null,
       "left": null,
       "margin": null,
       "max_height": null,
       "max_width": null,
       "min_height": null,
       "min_width": null,
       "object_fit": null,
       "object_position": null,
       "order": null,
       "overflow": null,
       "overflow_x": null,
       "overflow_y": null,
       "padding": null,
       "right": null,
       "top": null,
       "visibility": null,
       "width": null
      }
     },
     "c0b13d970e764466bc209fdada2040db": {
      "model_module": "@jupyter-widgets/output",
      "model_module_version": "1.0.0",
      "model_name": "OutputModel",
      "state": {
       "_dom_classes": [],
       "_model_module": "@jupyter-widgets/output",
       "_model_module_version": "1.0.0",
       "_model_name": "OutputModel",
       "_view_count": null,
       "_view_module": "@jupyter-widgets/output",
       "_view_module_version": "1.0.0",
       "_view_name": "OutputView",
       "layout": "IPY_MODEL_bf93b6b246e74176bf26567d64adb17d",
       "msg_id": "",
       "outputs": [
        {
         "data": {
          "image/png": "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",
          "text/plain": "<Figure size 600x400 with 1 Axes>"
         },
         "metadata": {},
         "output_type": "display_data"
        }
       ]
      }
     },
     "d0f153f32f21493fb3dea096afb1cd1b": {
      "model_module": "@jupyter-widgets/base",
      "model_module_version": "1.2.0",
      "model_name": "LayoutModel",
      "state": {
       "_model_module": "@jupyter-widgets/base",
       "_model_module_version": "1.2.0",
       "_model_name": "LayoutModel",
       "_view_count": null,
       "_view_module": "@jupyter-widgets/base",
       "_view_module_version": "1.2.0",
       "_view_name": "LayoutView",
       "align_content": null,
       "align_items": null,
       "align_self": null,
       "border": null,
       "bottom": null,
       "display": null,
       "flex": null,
       "flex_flow": null,
       "grid_area": null,
       "grid_auto_columns": null,
       "grid_auto_flow": null,
       "grid_auto_rows": null,
       "grid_column": null,
       "grid_gap": null,
       "grid_row": null,
       "grid_template_areas": null,
       "grid_template_columns": null,
       "grid_template_rows": null,
       "height": null,
       "justify_content": null,
       "justify_items": null,
       "left": null,
       "margin": null,
       "max_height": null,
       "max_width": null,
       "min_height": null,
       "min_width": null,
       "object_fit": null,
       "object_position": null,
       "order": null,
       "overflow": null,
       "overflow_x": null,
       "overflow_y": null,
       "padding": null,
       "right": null,
       "top": null,
       "visibility": null,
       "width": null
      }
     },
     "e9eb1a564aa344d88398ed51ee66f17b": {
      "model_module": "@jupyter-widgets/base",
      "model_module_version": "1.2.0",
      "model_name": "LayoutModel",
      "state": {
       "_model_module": "@jupyter-widgets/base",
       "_model_module_version": "1.2.0",
       "_model_name": "LayoutModel",
       "_view_count": null,
       "_view_module": "@jupyter-widgets/base",
       "_view_module_version": "1.2.0",
       "_view_name": "LayoutView",
       "align_content": null,
       "align_items": null,
       "align_self": null,
       "border": null,
       "bottom": null,
       "display": null,
       "flex": null,
       "flex_flow": null,
       "grid_area": null,
       "grid_auto_columns": null,
       "grid_auto_flow": null,
       "grid_auto_rows": null,
       "grid_column": null,
       "grid_gap": null,
       "grid_row": null,
       "grid_template_areas": null,
       "grid_template_columns": null,
       "grid_template_rows": null,
       "height": null,
       "justify_content": null,
       "justify_items": null,
       "left": null,
       "margin": null,
       "max_height": null,
       "max_width": null,
       "min_height": null,
       "min_width": null,
       "object_fit": null,
       "object_position": null,
       "order": null,
       "overflow": null,
       "overflow_x": null,
       "overflow_y": null,
       "padding": null,
       "right": null,
       "top": null,
       "visibility": null,
       "width": null
      }
     }
    },
    "version_major": 2,
    "version_minor": 0
   }
  }
 },
 "nbformat": 4,
 "nbformat_minor": 5
}