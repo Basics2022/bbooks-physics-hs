{
 "cells": [
  {
   "cell_type": "markdown",
   "id": "38d65b70-f33b-436f-8582-0a4c60bd64f8",
   "metadata": {},
   "source": [
    "(physics-hs:modern:black-body)=\n",
    "# Black body radiation"
   ]
  },
  {
   "cell_type": "code",
   "execution_count": 1,
   "id": "3694ef4a-9083-4784-bd73-17f4ea7ba690",
   "metadata": {},
   "outputs": [
    {
     "data": {
      "application/vnd.jupyter.widget-view+json": {
       "model_id": "7b14f9ec5cd84265a32cac2a475e0485",
       "version_major": 2,
       "version_minor": 0
      },
      "text/plain": [
       "interactive(children=(IntSlider(value=10, description='n', min=1), Output()), _dom_classes=('widget-interact',…"
      ]
     },
     "metadata": {},
     "output_type": "display_data"
    },
    {
     "data": {
      "application/vnd.jupyter.widget-view+json": {
       "model_id": "734d10670ace4428a422747bc515457a",
       "version_major": 2,
       "version_minor": 0
      },
      "text/plain": [
       "Output()"
      ]
     },
     "metadata": {},
     "output_type": "display_data"
    }
   ],
   "source": [
    "import numpy as np\n",
    "import matplotlib.pyplot as plt\n",
    "from ipywidgets import interactive, widgets, Output\n",
    "from IPython.display import display, clear_output\n",
    "\n",
    "# Create an Output widget to capture and update the plot\n",
    "out = Output()\n",
    "\n",
    "# Function to update plot\n",
    "def plot_fun(n):\n",
    "    with out:\n",
    "        clear_output(wait=True)  # Clear the previous output\n",
    "        plt.figure(figsize=(6, 4))\n",
    "        plt.plot(np.random.random(n), np.random.random(n), 'o')\n",
    "        plt.title(f\"Plot with {n} points\")\n",
    "        plt.show()\n",
    "\n",
    "# Create the slider widget\n",
    "n_slider = widgets.IntSlider(min=1, max=100, step=1, value=10)\n",
    "\n",
    "# Create the interactive widget\n",
    "interactive_plot = interactive(plot_fun, n=n_slider)\n",
    "\n",
    "# Display the slider and the plot output\n",
    "display(interactive_plot, out)"
   ]
  },
  {
   "cell_type": "code",
   "execution_count": null,
   "id": "956d33e9-f92b-45b2-8eb2-dbbfb7ba13c1",
   "metadata": {},
   "outputs": [],
   "source": []
  }
 ],
 "metadata": {
  "kernelspec": {
   "display_name": "Python 3 (ipykernel)",
   "language": "python",
   "name": "python3"
  },
  "language_info": {
   "codemirror_mode": {
    "name": "ipython",
    "version": 3
   },
   "file_extension": ".py",
   "mimetype": "text/x-python",
   "name": "python",
   "nbconvert_exporter": "python",
   "pygments_lexer": "ipython3",
   "version": "3.8.10"
  },
  "widgets": {
   "application/vnd.jupyter.widget-state+json": {
    "state": {
     "1a7cfbfee6f44affb1dcbfa245246f1a": {
      "model_module": "@jupyter-widgets/controls",
      "model_module_version": "1.5.0",
      "model_name": "IntSliderModel",
      "state": {
       "_dom_classes": [],
       "_model_module": "@jupyter-widgets/controls",
       "_model_module_version": "1.5.0",
       "_model_name": "IntSliderModel",
       "_view_count": null,
       "_view_module": "@jupyter-widgets/controls",
       "_view_module_version": "1.5.0",
       "_view_name": "IntSliderView",
       "continuous_update": true,
       "description": "n",
       "description_tooltip": null,
       "disabled": false,
       "layout": "IPY_MODEL_53d7b817243c47ea9a4ea46b84647b96",
       "max": 100,
       "min": 1,
       "orientation": "horizontal",
       "readout": true,
       "readout_format": "d",
       "step": 1,
       "style": "IPY_MODEL_f574ba9806be408aa1e1b3fbbcba6a72",
       "value": 10
      }
     },
     "30abeb5c1a3d409094bf3c01dc6ec8f4": {
      "model_module": "@jupyter-widgets/base",
      "model_module_version": "1.2.0",
      "model_name": "LayoutModel",
      "state": {
       "_model_module": "@jupyter-widgets/base",
       "_model_module_version": "1.2.0",
       "_model_name": "LayoutModel",
       "_view_count": null,
       "_view_module": "@jupyter-widgets/base",
       "_view_module_version": "1.2.0",
       "_view_name": "LayoutView",
       "align_content": null,
       "align_items": null,
       "align_self": null,
       "border": null,
       "bottom": null,
       "display": null,
       "flex": null,
       "flex_flow": null,
       "grid_area": null,
       "grid_auto_columns": null,
       "grid_auto_flow": null,
       "grid_auto_rows": null,
       "grid_column": null,
       "grid_gap": null,
       "grid_row": null,
       "grid_template_areas": null,
       "grid_template_columns": null,
       "grid_template_rows": null,
       "height": null,
       "justify_content": null,
       "justify_items": null,
       "left": null,
       "margin": null,
       "max_height": null,
       "max_width": null,
       "min_height": null,
       "min_width": null,
       "object_fit": null,
       "object_position": null,
       "order": null,
       "overflow": null,
       "overflow_x": null,
       "overflow_y": null,
       "padding": null,
       "right": null,
       "top": null,
       "visibility": null,
       "width": null
      }
     },
     "53d7b817243c47ea9a4ea46b84647b96": {
      "model_module": "@jupyter-widgets/base",
      "model_module_version": "1.2.0",
      "model_name": "LayoutModel",
      "state": {
       "_model_module": "@jupyter-widgets/base",
       "_model_module_version": "1.2.0",
       "_model_name": "LayoutModel",
       "_view_count": null,
       "_view_module": "@jupyter-widgets/base",
       "_view_module_version": "1.2.0",
       "_view_name": "LayoutView",
       "align_content": null,
       "align_items": null,
       "align_self": null,
       "border": null,
       "bottom": null,
       "display": null,
       "flex": null,
       "flex_flow": null,
       "grid_area": null,
       "grid_auto_columns": null,
       "grid_auto_flow": null,
       "grid_auto_rows": null,
       "grid_column": null,
       "grid_gap": null,
       "grid_row": null,
       "grid_template_areas": null,
       "grid_template_columns": null,
       "grid_template_rows": null,
       "height": null,
       "justify_content": null,
       "justify_items": null,
       "left": null,
       "margin": null,
       "max_height": null,
       "max_width": null,
       "min_height": null,
       "min_width": null,
       "object_fit": null,
       "object_position": null,
       "order": null,
       "overflow": null,
       "overflow_x": null,
       "overflow_y": null,
       "padding": null,
       "right": null,
       "top": null,
       "visibility": null,
       "width": null
      }
     },
     "734d10670ace4428a422747bc515457a": {
      "model_module": "@jupyter-widgets/output",
      "model_module_version": "1.0.0",
      "model_name": "OutputModel",
      "state": {
       "_dom_classes": [],
       "_model_module": "@jupyter-widgets/output",
       "_model_module_version": "1.0.0",
       "_model_name": "OutputModel",
       "_view_count": null,
       "_view_module": "@jupyter-widgets/output",
       "_view_module_version": "1.0.0",
       "_view_name": "OutputView",
       "layout": "IPY_MODEL_30abeb5c1a3d409094bf3c01dc6ec8f4",
       "msg_id": "",
       "outputs": [
        {
         "data": {
          "image/png": "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",
          "text/plain": "<Figure size 600x400 with 1 Axes>"
         },
         "metadata": {},
         "output_type": "display_data"
        }
       ]
      }
     },
     "7b14f9ec5cd84265a32cac2a475e0485": {
      "model_module": "@jupyter-widgets/controls",
      "model_module_version": "1.5.0",
      "model_name": "VBoxModel",
      "state": {
       "_dom_classes": [
        "widget-interact"
       ],
       "_model_module": "@jupyter-widgets/controls",
       "_model_module_version": "1.5.0",
       "_model_name": "VBoxModel",
       "_view_count": null,
       "_view_module": "@jupyter-widgets/controls",
       "_view_module_version": "1.5.0",
       "_view_name": "VBoxView",
       "box_style": "",
       "children": [
        "IPY_MODEL_1a7cfbfee6f44affb1dcbfa245246f1a",
        "IPY_MODEL_d42185751b0f4237ad58f9aa282ead8e"
       ],
       "layout": "IPY_MODEL_de78af3413a8499394a96de3de8940b6"
      }
     },
     "85983271c17a44ceb90aaef12489c780": {
      "model_module": "@jupyter-widgets/base",
      "model_module_version": "1.2.0",
      "model_name": "LayoutModel",
      "state": {
       "_model_module": "@jupyter-widgets/base",
       "_model_module_version": "1.2.0",
       "_model_name": "LayoutModel",
       "_view_count": null,
       "_view_module": "@jupyter-widgets/base",
       "_view_module_version": "1.2.0",
       "_view_name": "LayoutView",
       "align_content": null,
       "align_items": null,
       "align_self": null,
       "border": null,
       "bottom": null,
       "display": null,
       "flex": null,
       "flex_flow": null,
       "grid_area": null,
       "grid_auto_columns": null,
       "grid_auto_flow": null,
       "grid_auto_rows": null,
       "grid_column": null,
       "grid_gap": null,
       "grid_row": null,
       "grid_template_areas": null,
       "grid_template_columns": null,
       "grid_template_rows": null,
       "height": null,
       "justify_content": null,
       "justify_items": null,
       "left": null,
       "margin": null,
       "max_height": null,
       "max_width": null,
       "min_height": null,
       "min_width": null,
       "object_fit": null,
       "object_position": null,
       "order": null,
       "overflow": null,
       "overflow_x": null,
       "overflow_y": null,
       "padding": null,
       "right": null,
       "top": null,
       "visibility": null,
       "width": null
      }
     },
     "d42185751b0f4237ad58f9aa282ead8e": {
      "model_module": "@jupyter-widgets/output",
      "model_module_version": "1.0.0",
      "model_name": "OutputModel",
      "state": {
       "_dom_classes": [],
       "_model_module": "@jupyter-widgets/output",
       "_model_module_version": "1.0.0",
       "_model_name": "OutputModel",
       "_view_count": null,
       "_view_module": "@jupyter-widgets/output",
       "_view_module_version": "1.0.0",
       "_view_name": "OutputView",
       "layout": "IPY_MODEL_85983271c17a44ceb90aaef12489c780",
       "msg_id": "",
       "outputs": []
      }
     },
     "de78af3413a8499394a96de3de8940b6": {
      "model_module": "@jupyter-widgets/base",
      "model_module_version": "1.2.0",
      "model_name": "LayoutModel",
      "state": {
       "_model_module": "@jupyter-widgets/base",
       "_model_module_version": "1.2.0",
       "_model_name": "LayoutModel",
       "_view_count": null,
       "_view_module": "@jupyter-widgets/base",
       "_view_module_version": "1.2.0",
       "_view_name": "LayoutView",
       "align_content": null,
       "align_items": null,
       "align_self": null,
       "border": null,
       "bottom": null,
       "display": null,
       "flex": null,
       "flex_flow": null,
       "grid_area": null,
       "grid_auto_columns": null,
       "grid_auto_flow": null,
       "grid_auto_rows": null,
       "grid_column": null,
       "grid_gap": null,
       "grid_row": null,
       "grid_template_areas": null,
       "grid_template_columns": null,
       "grid_template_rows": null,
       "height": null,
       "justify_content": null,
       "justify_items": null,
       "left": null,
       "margin": null,
       "max_height": null,
       "max_width": null,
       "min_height": null,
       "min_width": null,
       "object_fit": null,
       "object_position": null,
       "order": null,
       "overflow": null,
       "overflow_x": null,
       "overflow_y": null,
       "padding": null,
       "right": null,
       "top": null,
       "visibility": null,
       "width": null
      }
     },
     "f574ba9806be408aa1e1b3fbbcba6a72": {
      "model_module": "@jupyter-widgets/controls",
      "model_module_version": "1.5.0",
      "model_name": "SliderStyleModel",
      "state": {
       "_model_module": "@jupyter-widgets/controls",
       "_model_module_version": "1.5.0",
       "_model_name": "SliderStyleModel",
       "_view_count": null,
       "_view_module": "@jupyter-widgets/base",
       "_view_module_version": "1.2.0",
       "_view_name": "StyleView",
       "description_width": "",
       "handle_color": null
      }
     }
    },
    "version_major": 2,
    "version_minor": 0
   }
  }
 },
 "nbformat": 4,
 "nbformat_minor": 5
}